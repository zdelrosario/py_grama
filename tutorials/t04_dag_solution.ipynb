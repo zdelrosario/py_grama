{
 "cells": [
  {
   "cell_type": "markdown",
   "metadata": {},
   "source": [
    "# Tutorial 04: Hierarchical Functions\n",
    "\n",
    "*Authors: Zach del Rosario*\n",
    "\n",
    "---\n",
    "\n",
    "This is a tutorial on using a hierarchical structure to decompose complicated functions into simpler pieces. We will use [*directed acyclic graphs*](https://en.wikipedia.org/wiki/Directed_acyclic_graph) to represent functions with subfunctions. The grama language allows us to **easily** define and visualize this graph structure.\n",
    "\n",
    "**Learning Goals**: By completing this notebook, you will learn:\n",
    "1. How to define a hierarchical function\n",
    "1. How to visualize the hierarchical structure\n",
    "1. The advantages---and disadvantages---of function decomposition\n",
    "\n",
    "**Prerequisites**:\n",
    "- Familiarity with the Python programming language\n",
    "- [Tutorial 03: Model Building](https://github.com/zdelrosario/py_grama/blob/master/tutorials/t03_building_assignment.ipynb)\n",
    "\n",
    "**Table of Contents**:\n",
    "1. [Defining hierarchical functions](#s1)\n",
    "1. [Debugging the build process](#s2)\n",
    "1. [Using the hierarchical function](#3)\n"
   ]
  },
  {
   "cell_type": "markdown",
   "metadata": {},
   "source": [
    "## Defining hierarchical functions <a id=\"s1\"></a>\n",
    "\n",
    "---\n",
    "\n",
    "As a running example, we will again study the plate buckling model discussed in [Tutorial 03: Model Building](https://github.com/zdelrosario/py_grama/blob/master/tutorials/t03_building_assignment.ipynb). For reference, the *function* from that model was\n",
    "\n",
    "$$g_{\\text{buckling}} = \\frac{\\pi E}{12 (1 - \\mu^2)} \\left(\\frac{t}{h}\\right)^2 - \\frac{L}{wt}.$$\n",
    "\n",
    "We are going to *decompose* $g_{\\text{buckling}}$ into simpler pieces, in order to organize and study the components of this function. Re-define the limit state as\n",
    "\n",
    "$$g_{\\text{buckling}} = \\sigma_{\\text{critical}} - \\sigma_{\\text{applied}},$$\n",
    "\n",
    "where\n",
    "\n",
    "$$\\sigma_{\\text{critical}} = \\frac{\\pi E}{12 (1 - \\mu^2)} \\left(\\frac{t}{h}\\right)^2$$\n",
    "\n",
    "is the *critical buckling stress*. It represents the strength of the plate---the capacity of the structure to take load. The term\n",
    "\n",
    "$$\\sigma_{\\text{applied}} = \\frac{L}{wt}$$\n",
    "\n",
    "is the *applied stress*. This is the demand placed on the structure due to the loading conditions.\n",
    "\n",
    "We can think of $\\sigma_{\\text{critical}}, \\sigma_{\\text{applied}}$ as *intermediate outputs*---they are outputs of the model, but also *inputs* to functions *within the model*.\n"
   ]
  },
  {
   "cell_type": "markdown",
   "metadata": {},
   "source": [
    "#### __Q1: Build with subfunctions__\n",
    "\n",
    "For convenience, I've implemented the three subfunctions below. Your task is to assemble these functions using grama to form one hierarchically-defined model.\n"
   ]
  },
  {
   "cell_type": "code",
   "execution_count": null,
   "metadata": {},
   "outputs": [],
   "source": [
    "###\n",
    "# TASK: Set up grama, build the model\n",
    "# TODO: Import grama, build a model with the three sub-functions\n",
    "###\n",
    "\n",
    "\n",
    "# -- NO NEED TO MODIFY BELOW ----\n",
    "# The three functions and their inputs / outputs\n",
    "def fun_critical(x):\n",
    "    E, mu, t, h = x\n",
    "    return 3.1415**2 * E / (12 * (1 - mu**2)) * (t / h) ** 2\n",
    "\n",
    "\n",
    "var_critical = [\"E\", \"mu\", \"t\", \"h\"]\n",
    "out_critical = [\"sig_cr\"]\n",
    "\n",
    "\n",
    "def fun_applied(x):\n",
    "    L, w, t = x\n",
    "    return L / w / t\n",
    "\n",
    "\n",
    "var_applied = [\"L\", \"w\", \"t\"]\n",
    "out_applied = [\"sig_app\"]\n",
    "\n",
    "\n",
    "def fun_limit(x):\n",
    "    sig_cr, sig_app = x\n",
    "    return sig_cr - sig_app\n",
    "\n",
    "\n",
    "var_limit = [\"sig_cr\", \"sig_app\"]\n",
    "out_limit = [\"g_buckle\"]\n",
    "\n",
    "\n",
    "import grama as gr\n",
    "\n",
    "md = (\n",
    "    gr.Model(\"Buckling plate\")\n",
    "    >> gr.cp_function(\n",
    "        fun=fun_critical, var=var_critical, out=out_critical, name=\"Critical\"\n",
    "    )\n",
    "    >> gr.cp_function(\n",
    "        fun=fun_applied, var=var_applied, out=out_applied, name=\"Applied\"\n",
    "    )\n",
    "    >> gr.cp_function(\n",
    "        fun=fun_limit, var=var_limit, out=out_limit, name=\"Limit State\"\n",
    "    )\n",
    ")\n",
    "# -- NO NEED TO MODIFY BELOW ----\n",
    "# Summarize the model\n",
    "md.printpretty()"
   ]
  },
  {
   "cell_type": "markdown",
   "metadata": {},
   "source": [
    "Once you've successfully implemented the function, you will be able to *visualize* the hierarchical function as a *directed acyclic graph* **automagically**. \n",
    "\n",
    "Run the following to visualize your function.\n"
   ]
  },
  {
   "cell_type": "code",
   "execution_count": null,
   "metadata": {},
   "outputs": [],
   "source": [
    "# -- NO NEED TO MODIFY BELOW ----\n",
    "# Visualize the hierarchical function\n",
    "md.show_dag()"
   ]
  },
  {
   "cell_type": "markdown",
   "metadata": {},
   "source": [
    "What's a **directed acyclic graph** (DAG)?\n",
    "\n",
    "- This is a **graph** because it has nodes (the circles) and edges (the lines between circles)\n",
    "- It's **directed** because the edges have one-way arrows\n",
    "- It's **acyclic** because the directed edges are not oriented in loops\n",
    "\n",
    "In this graph the **nodes represent the full set of `(Inputs)`, the full set of `(Outputs)`, and all the subfunctions**, while the **edges represent sets of variables / outputs**. You can think of the `(Inputs)` and `(Outputs)` as the two \"sides\" of the function, and the subfunctions as the particulars of how information flows from one side to the other.\n",
    "\n",
    "Practically, this DAG tells us which inputs go to which sub-functions. The directed edges are labeled with variables; for instance, the `Critical` function takes as inputs `{t, mu, E, h}`, and returns `{sig_cr}`. Then `{sig_cr}` goes both to the `Limit State`, and to the `(Outputs)`. We can also see that the `Limit State` does not *directly* depend on any of the inputs; all inputs are summarized before they enter the limit state function.\n",
    "\n",
    "This DAG is useful for a couple reasons:\n",
    "\n",
    "1. It gives us a quick overview of which outputs depend on which inputs\n",
    "1. It helps us debug potential model problems\n",
    "\n",
    "We'll do a lot of hierarchical function debugging in the following section!\n"
   ]
  },
  {
   "cell_type": "markdown",
   "metadata": {},
   "source": [
    "## Debugging the build process <a id=\"s2\"></a>\n",
    "\n",
    "---\n",
    "\n",
    "I purposefully laid out the functions above in a *special* order[<sup>1</sup>](#fn1); what happens if we mess with that order? Or what if you're building a hierarchical function from scratch and are not yet sure what the *special* order is? Here we'll learn how to *debug* building a hierarchical function by dealing with some common problems you may run into.\n"
   ]
  },
  {
   "cell_type": "markdown",
   "metadata": {},
   "source": [
    "#### __Q2: Fix this code__\n",
    "\n",
    "The following implementation of the same model is *almost* correct. Uncomment the code, read the error message for a hint on what's wrong, and  fix the code.\n",
    "\n",
    "*Hint*: Order of the functions *matters*.\n"
   ]
  },
  {
   "cell_type": "code",
   "execution_count": null,
   "metadata": {},
   "outputs": [],
   "source": [
    "###\n",
    "# TASK: Fix this code\n",
    "# TODO: Uncomment and execute the following code; the error message\n",
    "#       will give you a hint about how to fix it.\n",
    "###\n",
    "\n",
    "# -- UNCOMMENT BELOW AND RUN----\n",
    "# TODO: Fix this!\n",
    "# (\n",
    "#     gr.Model(\"Wrong!\")\n",
    "#     >> gr.cp_function(\n",
    "#         fun=fun_limit,\n",
    "#         var=var_limit,\n",
    "#         out=out_limit,\n",
    "#         name=\"Limit State\"\n",
    "#     )\n",
    "#     >> gr.cp_function(\n",
    "#         fun=fun_critical,\n",
    "#         var=var_critical,\n",
    "#         out=out_critical,\n",
    "#         name=\"Critical\"\n",
    "#     )\n",
    "#     >> gr.cp_function(\n",
    "#         fun=fun_applied,\n",
    "#         var=var_applied,\n",
    "#         out=out_applied,\n",
    "#         name=\"Applied\"\n",
    "#     )\n",
    "# )"
   ]
  },
  {
   "cell_type": "markdown",
   "metadata": {},
   "source": [
    "If you scroll to the bottom of the error, you should see\n",
    "\n",
    "```\n",
    "ValueError: `out` must not intersect model.var\n",
    "```\n",
    "\n",
    "along with some hints about how to fix the error. This illustrates our first *rule* about building hierarchical functions:\n",
    "\n",
    "__Hierarchical Functions Rule 1:__ Build from inputs to outputs\n",
    "\n",
    "Under the hood, grama checks that inputs are not being re-defined as outputs. *If you want to have an intermediate output for re-use in another function, you need to define it as an output first.* We can say this more succinctly as \"build from inputs to outputs\".\n",
    "\n",
    "For example, the code immediately above tried to define the `Limit State` function before `sig_cr` and `sig_app` were available; thus grama thought these were inputs. "
   ]
  },
  {
   "cell_type": "code",
   "execution_count": null,
   "metadata": {},
   "outputs": [],
   "source": [
    "md_tmp = gr.Model(\"Limit state only\") >> gr.cp_function(\n",
    "    fun=fun_limit, var=var_limit, out=out_limit, name=\"Limit State\"\n",
    ")\n",
    "md_tmp.show_dag()"
   ]
  },
  {
   "cell_type": "markdown",
   "metadata": {},
   "source": [
    "However, `{sig_app, sig_cr}` are not *really* inputs; they're intermediate outputs. We need to provide them by first defining the `Critical` and `Applied` functions first.\n"
   ]
  },
  {
   "cell_type": "markdown",
   "metadata": {},
   "source": [
    "#### __Q3: Fix this code__\n",
    "\n",
    "\n"
   ]
  },
  {
   "cell_type": "code",
   "execution_count": null,
   "metadata": {},
   "outputs": [],
   "source": [
    "###\n",
    "# TASK: Fix this code\n",
    "# TODO: Uncomment and execute the following code; the error message\n",
    "#       will give you a hint about how to fix it.\n",
    "###\n",
    "\n",
    "# -- UNCOMMENT BELOW AND RUN----\n",
    "# TODO: Fix this!\n",
    "# md = (\n",
    "#     gr.Model(\"Also wrong!\")\n",
    "#     >> gr.cp_function(\n",
    "#         fun=fun_critical,\n",
    "#         var=var_critical,\n",
    "#         out=[\"sig\"],\n",
    "#         name=\"Critical\"\n",
    "#     )\n",
    "#     >> gr.cp_function(\n",
    "#         fun=fun_applied,\n",
    "#         var=var_applied,\n",
    "#         out=[\"sig\"],\n",
    "#         name=\"Applied\"\n",
    "#     )\n",
    "#     >> gr.cp_function(\n",
    "#         fun=fun_limit,\n",
    "#         var=var_limit,\n",
    "#         out=out_limit,\n",
    "#         name=\"Limit State\"\n",
    "#     )\n",
    "# )"
   ]
  },
  {
   "cell_type": "markdown",
   "metadata": {},
   "source": [
    "If you scroll to the bottom of the error, you should see\n",
    "\n",
    "```\n",
    "ValueError: `out` must not intersect model.out\n",
    "```\n",
    "\n",
    "along with some hints about how to fix the error. The error is much like the previous, except that this version talkes about `outputs` only. This illustrates our second *rule* about building hierarchical functions:\n",
    "\n",
    "__Hierarchical Functions Rule 2:__ Use unique output names\n",
    "\n",
    "Different functions may take the same input, so re-using these names is fine. However, having multiple sources for the same output is ambiguous. Grama automatically detects cases like this and throws an error.\n",
    "\n",
    "For example, the code immediately above used `sig` for both the critical and applied stresses. The `Applied` function essentially tried to override the `Critical` function's output. This caused an error.\n"
   ]
  },
  {
   "cell_type": "markdown",
   "metadata": {},
   "source": [
    "#### __Q4: Fix this code__\n",
    "\n",
    "Not *all* building errors will throw error messages! Sometimes a *typo* will mess things up. In this case, showing the DAG will help you catch typos that are hard to see in the code. Use the DAG visualization to catch the typos below.\n"
   ]
  },
  {
   "cell_type": "code",
   "execution_count": null,
   "metadata": {},
   "outputs": [],
   "source": [
    "###\n",
    "# TASK: Fix this code\n",
    "# TODO: Plot the DAG for the function, and see if you can determine what went wrong.\n",
    "#       Fix the code to correctly implement the model.\n",
    "###\n",
    "\n",
    "# TODO: Fix this code\n",
    "md_wrong = (\n",
    "    gr.Model(\"Buckling plate\")\n",
    "    >> gr.cp_function(\n",
    "        fun=fun_critical,\n",
    "        var=var_critical,\n",
    "        out=[\"sig_critical\"],\n",
    "        name=\"Critical\",\n",
    "    )\n",
    "    >> gr.cp_function(\n",
    "        fun=fun_applied, var=var_applied, out=[\"sig_applied\"], name=\"Applied\"\n",
    "    )\n",
    "    >> gr.cp_function(\n",
    "        fun=fun_limit, var=var_limit, out=out_limit, name=\"Limit State\"\n",
    "    )\n",
    ")\n",
    "\n",
    "# TODO: Visualize the DAG and inspect\n",
    "md_wrong.show_dag()"
   ]
  },
  {
   "cell_type": "markdown",
   "metadata": {},
   "source": [
    "Based on the DAG, we can see that `sig_cr, sig_app` go directly from `(Inputs)` to the `Limit State`, but we set out to decompose the limit state into sub-functions! This visual highlights the mistake: The intermediate output names were mis-spelled in the composition calls.\n"
   ]
  },
  {
   "cell_type": "markdown",
   "metadata": {},
   "source": [
    "## Using the hierarchical function <a id=\"s3\"></a>\n",
    "\n",
    "---\n",
    "\n",
    "Now that we've broken the limit state `g_buckle` into components, let's look at how we might use this decomposition to learn more about the model's behavior. Below I assign some bounds to the model and run a sinew analysis (see [t02](https://github.com/zdelrosario/py_grama/blob/master/tutorials/t02_explore_assignment.ipynb)) to inspect the input-to-output relations."
   ]
  },
  {
   "cell_type": "code",
   "execution_count": null,
   "metadata": {},
   "outputs": [],
   "source": [
    "# -- EXAMPLE CODE; RUN AS-IS ----\n",
    "md_bounded = md >> gr.cp_bounds(\n",
    "    t=(0.03, 0.12),\n",
    "    h=(6, 18),\n",
    "    w=(6, 18),\n",
    "    L=(6.4e-4, 2.56e-3),\n",
    "    E=(1.008e4, 1.05e4),\n",
    "    mu=(0.316, 0.328),\n",
    ")\n",
    "\n",
    "(md_bounded >> gr.ev_sinews(df_det=\"swp\") >> gr.pt_auto())"
   ]
  },
  {
   "cell_type": "markdown",
   "metadata": {},
   "source": [
    "Inspecting these results, we can see the model results are almost entirely determined by $\\sigma_{\\text{critical}}$, with minimal contributions coming from $\\sigma_{\\text{applied}}$.\n",
    "\n",
    "*However*, it's not always a great idea to break a function down into more subfunctions. We could break the buckling model further into areas ($w * t$) and aspect ratios ($t / h$), but these intermediate values may clutter the outputs more than we need. Here are some reasons why you might want to decompose a function:\n",
    "\n",
    "1. To study *competing terms* in a function (e.g. $\\sigma_{\\text{critical}}$ vs $\\sigma_{\\text{applied}}$)\n",
    "1. When you have *data* on an *intermediate quantity*, and want to make a comparison\n",
    "\n",
    "Ultimately, the implementation of the function (more generally, the whole model) should serve to help answer your scientific question. You may need to iterate to settle on a \"correct\" breakdown of subfunctions---you may find you don't need any subfunctions all!\n"
   ]
  },
  {
   "cell_type": "markdown",
   "metadata": {},
   "source": [
    "# Next Steps\n",
    "When you are done, please take [this survey](https://docs.google.com/forms/d/e/1FAIpQLScW-9CIvYAH5Ntu6sruMbg1y-G36N0AI185ckYTWMQeAqD54w/viewform?usp=pp_url&entry.923399158=4088579) about the exercise.\n",
    "\n",
    "When you're ready, move on to [Tutorial 05: Data Wrangling: Estimating Probabilities](https://github.com/zdelrosario/py_grama/blob/master/tutorials/t05_data_summary_assignment.ipynb).\n"
   ]
  },
  {
   "cell_type": "markdown",
   "metadata": {},
   "source": [
    "__Footnotes__\n",
    "\n",
    "<span id=\"fn1\"><sup>1</sup> Specifically a <i>topological ordering</i>. It is a fact that a graph is a DAG if and only if it has a topological ordering. This is the special ordering that grama requires in function compositions.</span>"
   ]
  }
 ],
 "metadata": {
  "kernelspec": {
   "display_name": "Python 3",
   "language": "python",
   "name": "python3"
  },
  "language_info": {
   "codemirror_mode": {
    "name": "ipython",
    "version": 3
   },
   "file_extension": ".py",
   "mimetype": "text/x-python",
   "name": "python",
   "nbconvert_exporter": "python",
   "pygments_lexer": "ipython3",
   "version": "3.7.4"
  }
 },
 "nbformat": 4,
 "nbformat_minor": 2
}
