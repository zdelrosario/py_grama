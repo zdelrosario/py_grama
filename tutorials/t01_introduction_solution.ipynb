{
 "cells": [
  {
   "cell_type": "markdown",
   "metadata": {},
   "source": [
    "# Tutorial 01: Introduction\n",
    "\n",
    "*Authors: Zach del Rosario*\n",
    "\n",
    "---\n",
    "\n",
    "This is an introduction to `py_grama`, a toolset for building and anlyzing models in Python.\n",
    "\n",
    "**Learning Goals**: By completing this notebook, you will learn:\n",
    "1. How to install `py_grama`\n",
    "1. How to run `py_grama` in a Jupyter notebook\n",
    "1. *grama* verb classes and how to recognize them\n",
    "1. The key elements of a `py_grama` model and how to find them\n",
    "1. How to program with *pipes*\n",
    "\n",
    "**Prerequisites**:\n",
    "- Familiarity with the Python programming language\n",
    "\n",
    "**Table of Contents**:\n",
    "1. [Setup](#s1)\n",
    "  1. [Installation](#s1.1)\n",
    "  1. [Jupyter](#s1.2)\n",
    "1. [The *grama* language](#s2)\n",
    "  1. [Objects](#s2.1)\n",
    "  1. [`py_grama` models](#s2.2)\n",
    "  1. [Verbs](#s2.3)\n",
    "  1. [Pipes](#s2.4)"
   ]
  },
  {
   "cell_type": "markdown",
   "metadata": {},
   "source": [
    "## Setup <a id=\"s1\"></a>\n",
    "\n",
    "In this first section, we will set up a Python environment and install `py_grama`.\n",
    "\n",
    "---"
   ]
  },
  {
   "cell_type": "markdown",
   "metadata": {},
   "source": [
    "### Installation <a id=\"s1.1\"></a>\n",
    "\n",
    "Requirements:\n",
    "- A *terminal*\n",
    "  + OS X: The *Terminal* app\n",
    "  + Windows: Use *Anaconda Prompt*, installed with Anaconda Python\n",
    "  + Linux: (You got this)\n",
    "- Python + scientific computing packages. We recommend [Anaconda](https://www.anaconda.com/distribution/) 3.X.\n",
    "- `py_grama`, hosted at [this public GitHub repo](https://github.com/zdelrosario/py_grama). Download the repository and run from terminal:\n",
    "\n",
    "```bash\n",
    "$ cd py_grama/\n",
    "$ python setup.py install\n",
    "$ pip install -r requirements.txt\n",
    "```\n",
    "\n",
    "If your installation is ready, you should be able to run the following code in your terminal:\n",
    "\n",
    "```bash\n",
    "$ python\n",
    "```\n",
    "\n",
    "Which will start the *Python interpreter*, in which you should be able to run:\n",
    "\n",
    "```python\n",
    ">>> import grama as gr\n",
    "```\n",
    "\n",
    "Which imports `py_grama`. Press `Control + D` to exit the Python interpreter."
   ]
  },
  {
   "cell_type": "markdown",
   "metadata": {},
   "source": [
    "### Jupyter <a id=\"s1.2\"></a>\n",
    "\n",
    "If you're already reading this Jupyter notebook locally, feel free to skip this section.\n",
    "\n",
    "#### Starting Jupyter\n",
    "\n",
    "If you're reading this notebook in your browser, you might not be aware that this *Jupyter notebook* is actually *executable*. Using your terminal, navigate to the directory with the tutorial notebooks:\n",
    "\n",
    "```bash\n",
    "$ cd py_grama/tutorials/\n",
    "```\n",
    "\n",
    "and run Jupyter with the following command:\n",
    "\n",
    "```bash\n",
    "$ jupyter notebook\n",
    "```\n",
    "\n",
    "This will open up a page in your browser. Click on `t01_introduction_exercise.ipynb` to continue this tutorial.\n",
    "\n",
    "#### Working in Jupyter\n",
    "\n",
    "Jupyter notebooks are organized into *cells*, and each cell is one of two types:\n",
    "\n",
    "- **Markdown** cells contain formatted text. This cell is a Markdown cell.\n",
    "- **Code** cells contain *executable python code*. The cell below is a Code cell.\n",
    "\n",
    "You can *execute* a cell by click-selecting it (shown with a rounded rectangle to the left) and pressing `Control + Enter`. See [this tutorial](https://mybinder.org/v2/gh/ipython/ipython-in-depth/master?filepath=binder/Index.ipynb) for more information on Jupyter.\n",
    "\n",
    "#### __Q1: Execute a cell__ \n",
    "Select the code cell below and execute it. You should see `model: Cantilever Beam` plus a bunch of information about the model. If not, make sure your installation is valid."
   ]
  },
  {
   "cell_type": "code",
   "execution_count": null,
   "metadata": {},
   "outputs": [],
   "source": [
    "import grama as gr\n",
    "from grama.models import make_cantilever_beam\n",
    "\n",
    "md = make_cantilever_beam()\n",
    "md.printpretty()"
   ]
  },
  {
   "cell_type": "markdown",
   "metadata": {},
   "source": [
    "## The *grama* language <a id=\"s2\"></a>\n",
    "\n",
    "---"
   ]
  },
  {
   "cell_type": "markdown",
   "metadata": {},
   "source": [
    "### Objects <a id=\"s2.1\"></a>\n",
    "\n",
    "The *grama* language has *verbs* which take action on *objects*. The primary object types of interest are:\n",
    "\n",
    "- Data, implemented as [Pandas](https://pandas.pydata.org/) `DataFrame`s\n",
    "- Models, implemented as `py_grama` `Model`s\n",
    "\n",
    "Data are used to inform models, and models can be used to generate new data. Models also have a number of attributes: The most important are summarized below."
   ]
  },
  {
   "cell_type": "markdown",
   "metadata": {},
   "source": [
    "### `py_grama` Models <a id=\"s2.2\"></a>\n",
    "\n",
    "Models in `py_grama` have both *functions* and *inputs*. When studying a model, it is important to first get the *basic facts* before attempting a more involved analysis. The `printpretty()` method gives these basic facts about a model.\n",
    "\n",
    "#### __Q2: Get the basic facts__\n",
    "Use the `printpretty()` method on the model loaded below to get the basic facts on `md_ishigami`. *Hint:* We used `printpretty()` in a cell above."
   ]
  },
  {
   "cell_type": "code",
   "execution_count": null,
   "metadata": {},
   "outputs": [],
   "source": [
    "###\n",
    "# TASK: Summarize a model\n",
    "# TODO: Use the printpretty() method on md_ishigami\n",
    "###\n",
    "\n",
    "# -- NO NEED TO MODIFY THIS ----\n",
    "from grama.models import make_ishigami\n",
    "\n",
    "md_ishigami = make_ishigami()\n",
    "\n",
    "\n",
    "md_ishigami.printpretty()"
   ]
  },
  {
   "cell_type": "markdown",
   "metadata": {},
   "source": [
    "Let's take apart these basic facts:\n",
    "\n",
    "1. `model:` precedes the *model name*.\n",
    "1. `inputs:` precedes the complete list of model inputs. These are further organized into:\n",
    "  1. *variables*: These are inputs which enter into the model's `functions`. There are two kinds of variables:\n",
    "    1. `var_det:` Deterministic variables which take fixed, user-selected values. See `a, b` above.\n",
    "    1. `var_rand:` Random variables which are inherently uncertain, see `x1, x2, x3` above. These are listed with distribution information.\n",
    "  1. *parameters*: These characterize the distributions for the random variables. They are quantities like `loc, scale` above.\n",
    "1. `functions:` precedes the complete list of model functions. Each function lists the variables it takes and the *outputs* it returns. The Ishigami model has just one function `fun`."
   ]
  },
  {
   "cell_type": "markdown",
   "metadata": {},
   "source": [
    "### Verbs <a id=\"s2.3\"></a>\n",
    "\n",
    "The *grama* verbs are organized into different classes based on their primary input and output object type. In `py_grama` these verb classes are identified by their prefixes:\n",
    "\n",
    "| Verb Type | Prefix (Short)  | In   | Out   |\n",
    "| --------- | --------------- | ---- | ----- |\n",
    "| Evaluate  | `eval_` (`ev_`) | `md` | `df`  |\n",
    "| Fit       | `fit_`  (`ft_`) | `df` | `md`  |\n",
    "| Transform | `tran_` (`tf_`) | `df` | `df`  |\n",
    "| Compose   | `comp_` (`cp_`) | `md` | `md`  |\n",
    "| Plot      | `plot_` (`pt_`) | `df` | (Plot) |\n",
    "\n",
    "For readability, we recommend naming `DataFrames` with the `df_` prefix, and models with the `md_` prefix. Let's take a look at some of the *verbs* available in `py_grama`.\n"
   ]
  },
  {
   "cell_type": "code",
   "execution_count": null,
   "metadata": {},
   "outputs": [],
   "source": [
    "### EXECUTE THIS CELL\n",
    "\n",
    "df_sinews = gr.eval_sinews(md_ishigami, df_det=\"nom\")\n",
    "gr.plot_auto(df_sinews)"
   ]
  },
  {
   "cell_type": "markdown",
   "metadata": {},
   "source": [
    "The verb `gr.eval_sinews` is an Evaluation, so it takes a model and returns a dataframe. This function generates a \"sinew\" analysis, which sweeps across the random variables in directions parallel to their coordinate axes. The function repeats these sweeps a number of times from random starting locations. This gives us a sense of how the function behaves in each of its (random) variables, contextualized by other possibilities due to the starting location of the sweep.\n",
    "\n",
    "The verb `gr.plot_auto` is a utility function that takes `py_grama` results and quickly constructs a visualization. This is not intended to produce presentation-quality graphics, but rather as a tool to quickly post-process data.\n",
    "\n",
    "Based on these results, it appears that both `x1` and `x2` have some sinusoidal impact on the response, while `x3` has quadratic behavior.\n"
   ]
  },
  {
   "cell_type": "markdown",
   "metadata": {},
   "source": [
    "### Pipes <a id=\"s2.4\"></a>\n",
    "\n",
    "Note that each verb class has both a full (e.g. `eval_`) and short (e.g. `ev_`) prefix form. We have seen the full prefix versions; the short prefix verbs are *pipe-enabled*. Pipes allow us to use [*functional programming*](https://en.wikipedia.org/wiki/Functional_programming) patterns. One consequence of this pattern is that we can avoid assigning *intermediate variables*. For instance, we could perform a sensitivity analysis with the following code:\n",
    "\n",
    "```python\n",
    "df_hybrid = gr.eval_hybrid(md_ishigami, df_det=\"nom\")\n",
    "df_sobol = gr.tran_sobol(df_hybrid)\n",
    "df_sobol\n",
    "```\n",
    "\n",
    "We could eliminate the intermediate variables by using the *pipe operator* `>>` via:\n",
    "\n",
    "```python\n",
    "(\n",
    "    md_ishigami\n",
    "    >> gr.ev_hybrid(df_det=\"nom\")\n",
    "    >> gr.tf_sobol()\n",
    ")\n",
    "```\n",
    "\n",
    "The `>>` operator essentially takes the output from the left and inserts it as the first argument to the function on the right. Note above that we replaced the prefixes with their short forms. Also note that we enclose the operations in parentheses; if we did not use paren, then we would need to use line continuation characters `\\` at the end of each line.\n",
    "\n",
    "#### __Q3: Functionalize__\n",
    "Translate the following code into functional form using the pipe operator `>>`.\n",
    "\n",
    "```python\n",
    "df_sinews = gr.eval_sinews(md_ishigami, df_det=\"nom\")\n",
    "gr.plot_auto(df_sinews)\n",
    "```\n"
   ]
  },
  {
   "cell_type": "code",
   "execution_count": null,
   "metadata": {},
   "outputs": [],
   "source": [
    "###\n",
    "# TASK: Functionalize\n",
    "# TODO: Use the pipe operator >> to translate this code\n",
    "###\n",
    "\n",
    "\n",
    "(md_ishigami >> gr.ev_sinews(df_det=\"nom\") >> gr.pt_auto())"
   ]
  },
  {
   "cell_type": "markdown",
   "metadata": {},
   "source": [
    "There is a great deal more information on the *grama* language available in the [documentation](https://py-grama.readthedocs.io/en/latest/source/language.html), but this is beyond the scope of the present tutorial."
   ]
  },
  {
   "cell_type": "markdown",
   "metadata": {},
   "source": [
    "# Next Steps\n",
    "When you are done, please take [this survey](https://docs.google.com/forms/d/e/1FAIpQLSdRhycrA9sQhElByOaF1CG_7-Bw9eCby4408o1gnhDMUBNZeg/viewform?usp=pp_url&entry.923399158=4088579) about the exercise.\n",
    "\n",
    "When you're ready, move on to [Tutorial 02: Exploratory Model Analysis](https://github.com/zdelrosario/py_grama/blob/master/tutorials/t02_explore_assignment.ipynb)."
   ]
  }
 ],
 "metadata": {
  "kernelspec": {
   "display_name": "Python 3",
   "language": "python",
   "name": "python3"
  },
  "language_info": {
   "codemirror_mode": {
    "name": "ipython",
    "version": 3
   },
   "file_extension": ".py",
   "mimetype": "text/x-python",
   "name": "python",
   "nbconvert_exporter": "python",
   "pygments_lexer": "ipython3",
   "version": "3.7.4"
  }
 },
 "nbformat": 4,
 "nbformat_minor": 2
}
