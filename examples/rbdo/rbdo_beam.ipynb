{
 "cells": [
  {
   "cell_type": "markdown",
   "metadata": {},
   "source": [
    "# Reliability-Based Design Optimization\n",
    "\n",
    "---\n",
    "\n",
    "One of the primary uses of uncertainty propagation is to carry out *reliability-based design optimization* (RBDO). \n",
    "\n",
    "Reliability-based design optimization is the optimization of some design cost $C$ while constraining the failure probability of some failure modes $\\mathbb{P}[\\text{Failure}_i] \\leq \\mathcal{F}_i$.\n",
    "\n",
    "As a demonstration, we will carry out RBDO on the cantilever beam problem. This leads to the optimization problem:\n",
    "\n",
    "$$\\min_{w, t}\\, C_{\\text{area}}$$\n",
    "\n",
    "$$\\text{s.t.}\\, \\mathbb{P}[F_{\\text{stress}}], \\mathbb{P}[F_{\\text{disp}}] \\leq \\mathcal{F}$$\n",
    "\n",
    "In this notebook, we will study how to solve this class of problem using grama to approximate failure probabilities, and scipy to carry out multivariate optimization."
   ]
  },
  {
   "cell_type": "code",
   "execution_count": 1,
   "metadata": {},
   "outputs": [
    {
     "name": "stdout",
     "output_type": "stream",
     "text": [
      "model: Cantilever Beam\n",
      "\n",
      "  inputs:\n",
      "    var_det:\n",
      "      t: [2, 4]\n",
      "      w: [2, 4]\n",
      "    var_rand:\n",
      "      H: (+1) norm, {'loc': 500.0, 'scale': 100.0}\n",
      "      V: (+1) norm, {'loc': 1000.0, 'scale': 100.0}\n",
      "      E: (+0) norm, {'loc': 29000000.0, 'scale': 1450000.0}\n",
      "      Y: (-1) norm, {'loc': 40000.0, 'scale': 2000.0}\n",
      "    copula:\n",
      "        Independence copula\n",
      "  functions:\n",
      "    cross-sectional area: ['w', 't'] -> ['c_area']\n",
      "    limit state: stress: ['w', 't', 'H', 'V', 'E', 'Y'] -> ['g_stress']\n",
      "    limit state: displacement: ['w', 't', 'H', 'V', 'E', 'Y'] -> ['g_disp']\n"
     ]
    }
   ],
   "source": [
    "import grama as gr\n",
    "from grama.models import make_cantilever_beam\n",
    "from scipy.optimize import minimize\n",
    "\n",
    "X = gr.Intention()\n",
    "md = make_cantilever_beam()\n",
    "md.printpretty()"
   ]
  },
  {
   "cell_type": "markdown",
   "metadata": {},
   "source": [
    "### First Order Reliability Method (FORM)\n",
    "\n",
    "FORM is a means to approximate *reliability*; the probability $R = 1 - \\mathbb{P}[\\text{Failure}]$. We give a very brief non-theoretic introduction to FORM below. The *performance measure approach* (PMA) formulation of FORM is given below:\n",
    "\n",
    "$$\\min_{Z}\\, g(Z)$$\n",
    "\n",
    "$$\\text{s.t.}\\, \\|Z\\|_2 = \\beta$$\n",
    "\n",
    "where $Z$ are the model random variables transformed to standard normal space. Grama takes care of these transforms automatically so you can focus on building an appropriate model, rather than selecting computationally convenient distributions. The $\\beta$ quantity is a measure of reliability, given as $\\beta = \\Phi^{-1}(\\mathcal{R})$ where $\\mathcal{R}$ is the target reliability, and $\\Phi^{-1}$ is the inverse normal cdf. For instance, $\\beta = 3$ corresponds to $\\mathcal{R} \\approx 1 - 0.00135$.\n",
    "\n",
    "The result of the PMA optimization $g^*$ is used to replace the probability constraint with $g^* \\geq 0$. **The practical effect of FORM is to approximate a high-dimensional integral with an optimization.** This leads to a decrease in accuracy, but a considerable speedup in computation.\n",
    "\n",
    "An example of evaluating FORM PMA once (for two limit states) is given below. In practice, we will use this routine as a constraint while optimizing the structural cost."
   ]
  },
  {
   "cell_type": "code",
   "execution_count": 6,
   "metadata": {},
   "outputs": [
    {
     "data": {
      "text/html": [
       "<div>\n",
       "<style scoped>\n",
       "    .dataframe tbody tr th:only-of-type {\n",
       "        vertical-align: middle;\n",
       "    }\n",
       "\n",
       "    .dataframe tbody tr th {\n",
       "        vertical-align: top;\n",
       "    }\n",
       "\n",
       "    .dataframe thead th {\n",
       "        text-align: right;\n",
       "    }\n",
       "</style>\n",
       "<table border=\"1\" class=\"dataframe\">\n",
       "  <thead>\n",
       "    <tr style=\"text-align: right;\">\n",
       "      <th></th>\n",
       "      <th>t</th>\n",
       "      <th>w</th>\n",
       "      <th>H</th>\n",
       "      <th>V</th>\n",
       "      <th>E</th>\n",
       "      <th>Y</th>\n",
       "      <th>g_stress</th>\n",
       "      <th>g_disp</th>\n",
       "    </tr>\n",
       "  </thead>\n",
       "  <tbody>\n",
       "    <tr>\n",
       "      <td>0</td>\n",
       "      <td>3.0</td>\n",
       "      <td>3.0</td>\n",
       "      <td>1.732051</td>\n",
       "      <td>1.732051</td>\n",
       "      <td>0.000000</td>\n",
       "      <td>-1.732051</td>\n",
       "      <td>-0.112386</td>\n",
       "      <td>NaN</td>\n",
       "    </tr>\n",
       "    <tr>\n",
       "      <td>0</td>\n",
       "      <td>3.0</td>\n",
       "      <td>3.0</td>\n",
       "      <td>1.143468</td>\n",
       "      <td>2.129280</td>\n",
       "      <td>-1.776579</td>\n",
       "      <td>0.049738</td>\n",
       "      <td>NaN</td>\n",
       "      <td>-0.287475</td>\n",
       "    </tr>\n",
       "  </tbody>\n",
       "</table>\n",
       "</div>"
      ],
      "text/plain": [
       "     t    w         H         V         E         Y  g_stress    g_disp\n",
       "0  3.0  3.0  1.732051  1.732051  0.000000 -1.732051 -0.112386       NaN\n",
       "0  3.0  3.0  1.143468  2.129280 -1.776579  0.049738       NaN -0.287475"
      ]
     },
     "execution_count": 6,
     "metadata": {},
     "output_type": "execute_result"
    }
   ],
   "source": [
    "md >> gr.ev_form_pma(df_det=\"nom\", betas=dict(g_stress=3, g_disp=3))"
   ]
  },
  {
   "cell_type": "markdown",
   "metadata": {},
   "source": [
    "Note that this design has negative `g_stress, g_disp`; therefore the design studied does not meet the reliability constraints. We will search for a design which does using RBDO."
   ]
  },
  {
   "cell_type": "markdown",
   "metadata": {},
   "source": [
    "## Optimization Setup\n",
    "\n",
    "---\n",
    "\n",
    "Applying FORM PMA to transform the reliability constraints, we arrive at\n",
    "\n",
    "$$\\min_{w, t}\\, C_{\\text{area}}(w, t)$$\n",
    "\n",
    "$$\\text{s.t.}\\, g_{\\text{stress}}^*(w, t), g_{\\text{disp}}^*(w, t) \\geq 0$$\n",
    "\n",
    "The following code implements $C_{\\text{area}}, g_{\\text{stress}}^*, g_{\\text{disp}}^*$ as functions of $w, t$, so as to pass them to `scipy.optimize.minimize`."
   ]
  },
  {
   "cell_type": "code",
   "execution_count": 3,
   "metadata": {},
   "outputs": [],
   "source": [
    "beta_target = 3\n",
    "\n",
    "\n",
    "def cost(x):\n",
    "    w, t = x\n",
    "    df_det = gr.df_make(w=w, t=t)\n",
    "    df_res = md >> gr.ev_monte_carlo(df_det=df_det, n=1)\n",
    "    return df_res[\"c_area\"]\n",
    "\n",
    "\n",
    "def g_stress(x):\n",
    "    w, t = x\n",
    "    df_det = gr.df_make(w=w, t=t)\n",
    "    df_res = md >> gr.ev_form_pma(\n",
    "        df_det=df_det, betas=dict(g_stress=beta_target)\n",
    "    )\n",
    "    return df_res[\"g_stress\"]\n",
    "\n",
    "\n",
    "def g_disp(x):\n",
    "    w, t = x\n",
    "    df_det = gr.df_make(w=w, t=t)\n",
    "    df_res = md >> gr.ev_form_pma(df_det=df_det, betas=dict(g_disp=beta_target))\n",
    "    return df_res[\"g_disp\"]"
   ]
  },
  {
   "cell_type": "markdown",
   "metadata": {},
   "source": [
    "## Optimization Execution\n",
    "\n",
    "---\n",
    "\n",
    "Below we pass the objective and constraints to the scipy minimization routine; this will carry out RBDO."
   ]
  },
  {
   "cell_type": "code",
   "execution_count": 4,
   "metadata": {},
   "outputs": [
    {
     "name": "stdout",
     "output_type": "stream",
     "text": [
      "Optimization terminated successfully.    (Exit mode 0)\n",
      "            Current function value: 9.488911449804434\n",
      "            Iterations: 7\n",
      "            Function evaluations: 29\n",
      "            Gradient evaluations: 7\n"
     ]
    }
   ],
   "source": [
    "## Initial guess\n",
    "x0 = [3.0, 3.0]\n",
    "## Optimize\n",
    "res = minimize(\n",
    "    cost,\n",
    "    x0,\n",
    "    method=\"SLSQP\",\n",
    "    constraints=[\n",
    "        {\"type\": \"ineq\", \"fun\": g_stress},\n",
    "        {\"type\": \"ineq\", \"fun\": g_disp},\n",
    "    ],\n",
    "    bounds=[(2, 4), (2, 4)],\n",
    "    options={\"disp\": True},\n",
    ")"
   ]
  },
  {
   "cell_type": "code",
   "execution_count": 8,
   "metadata": {},
   "outputs": [
    {
     "data": {
      "text/html": [
       "<div>\n",
       "<style scoped>\n",
       "    .dataframe tbody tr th:only-of-type {\n",
       "        vertical-align: middle;\n",
       "    }\n",
       "\n",
       "    .dataframe tbody tr th {\n",
       "        vertical-align: top;\n",
       "    }\n",
       "\n",
       "    .dataframe thead th {\n",
       "        text-align: right;\n",
       "    }\n",
       "</style>\n",
       "<table border=\"1\" class=\"dataframe\">\n",
       "  <thead>\n",
       "    <tr style=\"text-align: right;\">\n",
       "      <th></th>\n",
       "      <th>w</th>\n",
       "      <th>t</th>\n",
       "      <th>c_area</th>\n",
       "    </tr>\n",
       "  </thead>\n",
       "  <tbody>\n",
       "    <tr>\n",
       "      <td>0</td>\n",
       "      <td>2.459665</td>\n",
       "      <td>3.857806</td>\n",
       "      <td>9.488911</td>\n",
       "    </tr>\n",
       "  </tbody>\n",
       "</table>\n",
       "</div>"
      ],
      "text/plain": [
       "          w         t    c_area\n",
       "0  2.459665  3.857806  9.488911"
      ]
     },
     "execution_count": 8,
     "metadata": {},
     "output_type": "execute_result"
    }
   ],
   "source": [
    "df_opt = gr.df_make(w=res.x[0], t=res.x[1], c_area=res.fun)\n",
    "df_opt"
   ]
  },
  {
   "cell_type": "markdown",
   "metadata": {},
   "source": [
    "We can check the optimization results with simple Monte Carlo; the failure probabilities for the optimized design should be below the desired `0.00135` level. We must select a sample size roughly $10\\times$ the failure probability we are trying to estimate, in order to get a sufficiently accurate estimation."
   ]
  },
  {
   "cell_type": "code",
   "execution_count": 19,
   "metadata": {},
   "outputs": [
    {
     "name": "stdout",
     "output_type": "stream",
     "text": [
      "eval_monte_carlo() is rounding n...\n"
     ]
    }
   ],
   "source": [
    "df_mc = md >> gr.ev_monte_carlo(df_det=df_opt[[\"w\", \"t\"]], n=10 / 0.00135)"
   ]
  },
  {
   "cell_type": "code",
   "execution_count": 20,
   "metadata": {},
   "outputs": [
    {
     "data": {
      "text/html": [
       "<div>\n",
       "<style scoped>\n",
       "    .dataframe tbody tr th:only-of-type {\n",
       "        vertical-align: middle;\n",
       "    }\n",
       "\n",
       "    .dataframe tbody tr th {\n",
       "        vertical-align: top;\n",
       "    }\n",
       "\n",
       "    .dataframe thead th {\n",
       "        text-align: right;\n",
       "    }\n",
       "</style>\n",
       "<table border=\"1\" class=\"dataframe\">\n",
       "  <thead>\n",
       "    <tr style=\"text-align: right;\">\n",
       "      <th></th>\n",
       "      <th>pof_stress</th>\n",
       "      <th>pof_disp</th>\n",
       "    </tr>\n",
       "  </thead>\n",
       "  <tbody>\n",
       "    <tr>\n",
       "      <td>0</td>\n",
       "      <td>0.00135</td>\n",
       "      <td>0.001215</td>\n",
       "    </tr>\n",
       "  </tbody>\n",
       "</table>\n",
       "</div>"
      ],
      "text/plain": [
       "   pof_stress  pof_disp\n",
       "0     0.00135  0.001215"
      ]
     },
     "execution_count": 20,
     "metadata": {},
     "output_type": "execute_result"
    }
   ],
   "source": [
    "(\n",
    "    df_mc\n",
    "    >> gr.tf_mutate(\n",
    "        fail_stress=(X.g_stress <= 0) * 1, fail_disp=(X.g_disp <= 0) * 1\n",
    "    )\n",
    "    >> gr.tf_summarize(\n",
    "        pof_stress=gr.mean(X.fail_stress),\n",
    "        pof_disp=gr.mean(X.fail_disp),\n",
    "    )\n",
    ")"
   ]
  },
  {
   "cell_type": "markdown",
   "metadata": {},
   "source": [
    "The design seems to satisfy both constraints."
   ]
  }
 ],
 "metadata": {
  "kernelspec": {
   "display_name": "Python 3",
   "language": "python",
   "name": "python3"
  },
  "language_info": {
   "codemirror_mode": {
    "name": "ipython",
    "version": 3
   },
   "file_extension": ".py",
   "mimetype": "text/x-python",
   "name": "python",
   "nbconvert_exporter": "python",
   "pygments_lexer": "ipython3",
   "version": "3.7.4"
  }
 },
 "nbformat": 4,
 "nbformat_minor": 4
}
