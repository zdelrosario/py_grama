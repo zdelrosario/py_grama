{
 "cells": [
  {
   "cell_type": "markdown",
   "metadata": {},
   "source": [
    "# Materials Data Modeling\n",
    "\n",
    "*Author*: Zachary del Rosario (zdelrosario@olin.edu)\n",
    "\n",
    "---\n",
    "\n",
    "This is a quick tour of using [Grama](https://github.com/zdelrosario/py_grama) to support materials informatics studies. I illustrate how to featurize materials data using the Matminer toolkit[2], visualize high-dimensional data to look for clusters[3], and fit a predictive model for materials properties[4].\n"
   ]
  },
  {
   "cell_type": "code",
   "execution_count": 1,
   "metadata": {},
   "outputs": [],
   "source": [
    "# Core informatics libraries\n",
    "import grama as gr\n",
    "import plotnine as gg\n",
    "import pandas as pd\n",
    "\n",
    "# Auxillary functions\n",
    "from grama.tran import tf_feat_composition  # Chemical composition featurizer\n",
    "from grama.tran import tf_tsne  # t-SNE dimension reduction\n",
    "from grama.fit import ft_rf  # Random forest regressor model\n",
    "\n",
    "# For downloading data\n",
    "import os\n",
    "import requests\n",
    "\n",
    "X = gr.Intention()"
   ]
  },
  {
   "cell_type": "markdown",
   "metadata": {},
   "source": [
    "## Obtain data\n",
    "\n",
    "First we obtain materials data to study. The following code downloads a local copy of the open MPEA dataset[1]. These data represent high-entropy alloys reported in the literature, and contain chemical formulae and various physical properties.\n"
   ]
  },
  {
   "cell_type": "code",
   "execution_count": 2,
   "metadata": {},
   "outputs": [
    {
     "name": "stdout",
     "output_type": "stream",
     "text": [
      "    MPEA data loaded locally\n",
      "(1653, 20)\n"
     ]
    },
    {
     "data": {
      "text/html": [
       "<div>\n",
       "<style scoped>\n",
       "    .dataframe tbody tr th:only-of-type {\n",
       "        vertical-align: middle;\n",
       "    }\n",
       "\n",
       "    .dataframe tbody tr th {\n",
       "        vertical-align: top;\n",
       "    }\n",
       "\n",
       "    .dataframe thead th {\n",
       "        text-align: right;\n",
       "    }\n",
       "</style>\n",
       "<table border=\"1\" class=\"dataframe\">\n",
       "  <thead>\n",
       "    <tr style=\"text-align: right;\">\n",
       "      <th></th>\n",
       "      <th>IDENTIFIER: Reference ID</th>\n",
       "      <th>FORMULA</th>\n",
       "      <th>PROPERTY: Microstructure</th>\n",
       "      <th>PROPERTY: Processing method</th>\n",
       "      <th>PROPERTY: grain size ($\\mu$m)</th>\n",
       "      <th>PROPERTY: ROM Density (g/cm$^3$)</th>\n",
       "      <th>PROPERTY: Exp. Density (g/cm$^3$)</th>\n",
       "      <th>PROPERTY: HV</th>\n",
       "      <th>PROPERTY: Type of test</th>\n",
       "      <th>PROPERTY: Test temperature ($^\\circ$C)</th>\n",
       "      <th>PROPERTY: YS (MPa)</th>\n",
       "      <th>PROPERTY: UTS (MPa)</th>\n",
       "      <th>PROPERTY: Elongation (%)</th>\n",
       "      <th>PROPERTY: Elongation plastic (%)</th>\n",
       "      <th>PROPERTY: Young modulus (GPa)</th>\n",
       "      <th>PROPERTY: O content (wppm)</th>\n",
       "      <th>PROPERTY: N content (wppm)</th>\n",
       "      <th>PROPERTY: C content (wppm)</th>\n",
       "      <th>REFERENCE: doi</th>\n",
       "      <th>REFERENCE: year</th>\n",
       "    </tr>\n",
       "  </thead>\n",
       "  <tbody>\n",
       "    <tr>\n",
       "      <td>0</td>\n",
       "      <td>146</td>\n",
       "      <td>Cr1 Mo1 Nb1 Ta1 V1 W1</td>\n",
       "      <td>NaN</td>\n",
       "      <td>POWDER</td>\n",
       "      <td>5.01</td>\n",
       "      <td>NaN</td>\n",
       "      <td>NaN</td>\n",
       "      <td>991.3</td>\n",
       "      <td>C</td>\n",
       "      <td>25.0</td>\n",
       "      <td>3410.0</td>\n",
       "      <td>NaN</td>\n",
       "      <td>2.0</td>\n",
       "      <td>NaN</td>\n",
       "      <td>NaN</td>\n",
       "      <td>7946.0</td>\n",
       "      <td>NaN</td>\n",
       "      <td>NaN</td>\n",
       "      <td>10.1016/j.jallcom.2018.11.318</td>\n",
       "      <td>2018</td>\n",
       "    </tr>\n",
       "    <tr>\n",
       "      <td>1</td>\n",
       "      <td>146</td>\n",
       "      <td>Cr1 Mo1 Nb1 Ta1 V1 W1</td>\n",
       "      <td>NaN</td>\n",
       "      <td>POWDER</td>\n",
       "      <td>10.80</td>\n",
       "      <td>NaN</td>\n",
       "      <td>NaN</td>\n",
       "      <td>988.3</td>\n",
       "      <td>C</td>\n",
       "      <td>25.0</td>\n",
       "      <td>3338.0</td>\n",
       "      <td>NaN</td>\n",
       "      <td>1.9</td>\n",
       "      <td>NaN</td>\n",
       "      <td>NaN</td>\n",
       "      <td>7946.0</td>\n",
       "      <td>NaN</td>\n",
       "      <td>NaN</td>\n",
       "      <td>10.1016/j.jallcom.2018.11.318</td>\n",
       "      <td>2018</td>\n",
       "    </tr>\n",
       "    <tr>\n",
       "      <td>2</td>\n",
       "      <td>137</td>\n",
       "      <td>Co1 Cr1 Fe1 Ni1</td>\n",
       "      <td>FCC</td>\n",
       "      <td>CAST</td>\n",
       "      <td>NaN</td>\n",
       "      <td>NaN</td>\n",
       "      <td>NaN</td>\n",
       "      <td>94.7</td>\n",
       "      <td>NaN</td>\n",
       "      <td>NaN</td>\n",
       "      <td>NaN</td>\n",
       "      <td>NaN</td>\n",
       "      <td>NaN</td>\n",
       "      <td>NaN</td>\n",
       "      <td>NaN</td>\n",
       "      <td>NaN</td>\n",
       "      <td>NaN</td>\n",
       "      <td>NaN</td>\n",
       "      <td>10.1016/j.matdes.2019.107698</td>\n",
       "      <td>2019</td>\n",
       "    </tr>\n",
       "    <tr>\n",
       "      <td>3</td>\n",
       "      <td>19</td>\n",
       "      <td>Al1 Cr1 Fe1 Mo1 Ni1</td>\n",
       "      <td>B2+Sec.</td>\n",
       "      <td>CAST</td>\n",
       "      <td>NaN</td>\n",
       "      <td>7.2</td>\n",
       "      <td>NaN</td>\n",
       "      <td>905.0</td>\n",
       "      <td>NaN</td>\n",
       "      <td>25.0</td>\n",
       "      <td>NaN</td>\n",
       "      <td>NaN</td>\n",
       "      <td>NaN</td>\n",
       "      <td>NaN</td>\n",
       "      <td>NaN</td>\n",
       "      <td>NaN</td>\n",
       "      <td>NaN</td>\n",
       "      <td>NaN</td>\n",
       "      <td>10.1016/j.jallcom.2013.03.253</td>\n",
       "      <td>2013</td>\n",
       "    </tr>\n",
       "    <tr>\n",
       "      <td>4</td>\n",
       "      <td>155</td>\n",
       "      <td>Al1 Co0.426 Cr0.383 Cu0.106 Fe0.106 Ni0.106</td>\n",
       "      <td>NaN</td>\n",
       "      <td>NaN</td>\n",
       "      <td>NaN</td>\n",
       "      <td>NaN</td>\n",
       "      <td>NaN</td>\n",
       "      <td>883.0</td>\n",
       "      <td>NaN</td>\n",
       "      <td>NaN</td>\n",
       "      <td>NaN</td>\n",
       "      <td>NaN</td>\n",
       "      <td>NaN</td>\n",
       "      <td>NaN</td>\n",
       "      <td>NaN</td>\n",
       "      <td>NaN</td>\n",
       "      <td>NaN</td>\n",
       "      <td>NaN</td>\n",
       "      <td>10.1016/j.actamat.2019.03.010</td>\n",
       "      <td>2019</td>\n",
       "    </tr>\n",
       "  </tbody>\n",
       "</table>\n",
       "</div>"
      ],
      "text/plain": [
       "   IDENTIFIER: Reference ID                                      FORMULA  \\\n",
       "0                       146                        Cr1 Mo1 Nb1 Ta1 V1 W1   \n",
       "1                       146                        Cr1 Mo1 Nb1 Ta1 V1 W1   \n",
       "2                       137                              Co1 Cr1 Fe1 Ni1   \n",
       "3                        19                          Al1 Cr1 Fe1 Mo1 Ni1   \n",
       "4                       155  Al1 Co0.426 Cr0.383 Cu0.106 Fe0.106 Ni0.106   \n",
       "\n",
       "  PROPERTY: Microstructure PROPERTY: Processing method  \\\n",
       "0                      NaN                      POWDER   \n",
       "1                      NaN                      POWDER   \n",
       "2                      FCC                        CAST   \n",
       "3                  B2+Sec.                        CAST   \n",
       "4                      NaN                         NaN   \n",
       "\n",
       "   PROPERTY: grain size ($\\mu$m)  PROPERTY: ROM Density (g/cm$^3$)  \\\n",
       "0                           5.01                               NaN   \n",
       "1                          10.80                               NaN   \n",
       "2                            NaN                               NaN   \n",
       "3                            NaN                               7.2   \n",
       "4                            NaN                               NaN   \n",
       "\n",
       "   PROPERTY: Exp. Density (g/cm$^3$)  PROPERTY: HV PROPERTY: Type of test  \\\n",
       "0                                NaN         991.3                      C   \n",
       "1                                NaN         988.3                      C   \n",
       "2                                NaN          94.7                    NaN   \n",
       "3                                NaN         905.0                    NaN   \n",
       "4                                NaN         883.0                    NaN   \n",
       "\n",
       "   PROPERTY: Test temperature ($^\\circ$C)  PROPERTY: YS (MPa)  \\\n",
       "0                                    25.0              3410.0   \n",
       "1                                    25.0              3338.0   \n",
       "2                                     NaN                 NaN   \n",
       "3                                    25.0                 NaN   \n",
       "4                                     NaN                 NaN   \n",
       "\n",
       "   PROPERTY: UTS (MPa)  PROPERTY: Elongation (%)  \\\n",
       "0                  NaN                       2.0   \n",
       "1                  NaN                       1.9   \n",
       "2                  NaN                       NaN   \n",
       "3                  NaN                       NaN   \n",
       "4                  NaN                       NaN   \n",
       "\n",
       "   PROPERTY: Elongation plastic (%)  PROPERTY: Young modulus (GPa)  \\\n",
       "0                               NaN                            NaN   \n",
       "1                               NaN                            NaN   \n",
       "2                               NaN                            NaN   \n",
       "3                               NaN                            NaN   \n",
       "4                               NaN                            NaN   \n",
       "\n",
       "   PROPERTY: O content (wppm) PROPERTY: N content (wppm)  \\\n",
       "0                      7946.0                        NaN   \n",
       "1                      7946.0                        NaN   \n",
       "2                         NaN                        NaN   \n",
       "3                         NaN                        NaN   \n",
       "4                         NaN                        NaN   \n",
       "\n",
       "   PROPERTY: C content (wppm)                 REFERENCE: doi  REFERENCE: year  \n",
       "0                         NaN  10.1016/j.jallcom.2018.11.318             2018  \n",
       "1                         NaN  10.1016/j.jallcom.2018.11.318             2018  \n",
       "2                         NaN   10.1016/j.matdes.2019.107698             2019  \n",
       "3                         NaN  10.1016/j.jallcom.2013.03.253             2013  \n",
       "4                         NaN  10.1016/j.actamat.2019.03.010             2019  "
      ]
     },
     "execution_count": 2,
     "metadata": {},
     "output_type": "execute_result"
    }
   ],
   "source": [
    "# Filename for local data\n",
    "filename_data = \"./mpea.csv\"\n",
    "\n",
    "if not os.path.exists(filename_data):\n",
    "    # Make request for data\n",
    "    url_data = \"https://docs.google.com/spreadsheets/u/1/d/1MsF4_jhWtEuZSvWfXLDHWEqLMScGCVXYWtqHW9Y7Yt0/export?format=csv\"\n",
    "    r = requests.get(url_data, allow_redirects=True)\n",
    "    open(filename_data, \"wb\").write(r.content)\n",
    "    print(\"   MPEA data downloaded from public Google sheet\")\n",
    "else:\n",
    "    # Note data already exists\n",
    "    print(\"    MPEA data loaded locally\")\n",
    "\n",
    "# Read the data into memory\n",
    "df_mpea = pd.read_csv(filename_data)\n",
    "\n",
    "# Check basic facts\n",
    "print(df_mpea.shape)\n",
    "df_mpea.head()"
   ]
  },
  {
   "cell_type": "markdown",
   "metadata": {},
   "source": [
    "## Featurize\n",
    "\n",
    "Grama ships with a convenient interface to the Matminer[2] package, which enables quick [*featurization*](https://en.wikipedia.org/wiki/Feature_engineering) of materials data. The code below filters out valid observations on a desired output property (yield strength) and temperature, then converts the chemical formulae above into a little over 100 physically-relevant chemical descriptors for subsequent informatics study.\n"
   ]
  },
  {
   "cell_type": "code",
   "execution_count": 3,
   "metadata": {},
   "outputs": [
    {
     "data": {
      "application/vnd.jupyter.widget-view+json": {
       "model_id": "ecbc3dd0d1cc488aa1cb31e67a874084",
       "version_major": 2,
       "version_minor": 0
      },
      "text/plain": [
       "HBox(children=(IntProgress(value=0, description='StrToComposition', max=1144, style=ProgressStyle(description_…"
      ]
     },
     "metadata": {},
     "output_type": "display_data"
    },
    {
     "name": "stdout",
     "output_type": "stream",
     "text": [
      "\n"
     ]
    },
    {
     "data": {
      "application/vnd.jupyter.widget-view+json": {
       "model_id": "33252281624d43059cc8a275f6a97f6d",
       "version_major": 2,
       "version_minor": 0
      },
      "text/plain": [
       "HBox(children=(IntProgress(value=0, description='ElementProperty', max=1144, style=ProgressStyle(description_w…"
      ]
     },
     "metadata": {},
     "output_type": "display_data"
    },
    {
     "name": "stdout",
     "output_type": "stream",
     "text": [
      "\n",
      "(1144, 152)\n"
     ]
    }
   ],
   "source": [
    "## Select output property to model\n",
    "out = \"PROPERTY: YS (MPa)\"\n",
    "\n",
    "df_working = (\n",
    "    df_mpea\n",
    "    >> gr.tf_dropna(subset=[out, \"PROPERTY: Test temperature ($^\\circ$C)\"])\n",
    "    >> tf_feat_composition()  # Grama utility for Matminer featurization\n",
    ")\n",
    "\n",
    "print(df_working.shape)"
   ]
  },
  {
   "cell_type": "markdown",
   "metadata": {},
   "source": [
    "**Observations**:\n",
    "\n",
    "- We have `1144 / 1653` valid observations on the yield strength."
   ]
  },
  {
   "cell_type": "markdown",
   "metadata": {},
   "source": [
    "## Visualize feature space\n",
    "\n",
    "Next we'll use the features generated above to visualize the available data. The following code selects only those features we'll use for exploration and modeling: The Matminer-derived features, and the experimental temperature.\n"
   ]
  },
  {
   "cell_type": "code",
   "execution_count": 4,
   "metadata": {},
   "outputs": [
    {
     "name": "stdout",
     "output_type": "stream",
     "text": [
      "Index(['MagpieData minimum Number', 'MagpieData maximum Number',\n",
      "       'MagpieData range Number', 'MagpieData mean Number',\n",
      "       'MagpieData avg_dev Number', 'MagpieData mode Number',\n",
      "       'MagpieData minimum MendeleevNumber',\n",
      "       'MagpieData maximum MendeleevNumber',\n",
      "       'MagpieData range MendeleevNumber', 'MagpieData mean MendeleevNumber',\n",
      "       ...\n",
      "       'MagpieData mean GSmagmom', 'MagpieData avg_dev GSmagmom',\n",
      "       'MagpieData mode GSmagmom', 'MagpieData minimum SpaceGroupNumber',\n",
      "       'MagpieData maximum SpaceGroupNumber',\n",
      "       'MagpieData range SpaceGroupNumber', 'MagpieData mean SpaceGroupNumber',\n",
      "       'MagpieData avg_dev SpaceGroupNumber',\n",
      "       'MagpieData mode SpaceGroupNumber',\n",
      "       'PROPERTY: Test temperature ($^\\circ$C)'],\n",
      "      dtype='object', length=133)\n"
     ]
    }
   ],
   "source": [
    "# Select desired features\n",
    "var_feat = (\n",
    "    df_working\n",
    "    >> gr.tf_select(gr.contains(\"Magpie\"), gr.contains(\"temperature\"))\n",
    ").columns\n",
    "print(var_feat)"
   ]
  },
  {
   "cell_type": "markdown",
   "metadata": {},
   "source": [
    "We have `133` features in total; reduce dimensionality to just two dimensions using [t-SNE](https://en.wikipedia.org/wiki/T-distributed_stochastic_neighbor_embedding)[3].\n"
   ]
  },
  {
   "cell_type": "code",
   "execution_count": 5,
   "metadata": {},
   "outputs": [],
   "source": [
    "df_tsne = df_working >> gr.tf_select(var_feat) >> tf_tsne(append=True)"
   ]
  },
  {
   "cell_type": "markdown",
   "metadata": {},
   "source": [
    "Visualize the data using the t-SNE reduction; are there clusters in feature space?\n"
   ]
  },
  {
   "cell_type": "code",
   "execution_count": 6,
   "metadata": {},
   "outputs": [
    {
     "data": {
      "image/png": "[encoded data removed]",
      "text/plain": [
       "<Figure size 640x480 with 1 Axes>"
      ]
     },
     "metadata": {},
     "output_type": "display_data"
    },
    {
     "data": {
      "text/plain": [
       "<ggplot: (8772509474189)>"
      ]
     },
     "execution_count": 6,
     "metadata": {},
     "output_type": "execute_result"
    }
   ],
   "source": [
    "(\n",
    "    gg.ggplot(\n",
    "        df_tsne,\n",
    "        gg.aes(\"xi0\", \"xi1\", color=\"PROPERTY: Test temperature ($^\\circ$C)\"),\n",
    "    )\n",
    "    + gg.geom_point()\n",
    ")"
   ]
  },
  {
   "cell_type": "markdown",
   "metadata": {},
   "source": [
    "**Observations**:\n",
    "\n",
    "- The observations do seem to cluster. Follow-up studies could investigate whether similar elements account for cluster behavior.\n",
    "- Test temperatures tend to be low over the dataset.\n",
    "- Wide ranges of test temperature tend to cluster together; these are probably the result of single studies that tested chemically-similar specimens at different temperatures."
   ]
  },
  {
   "cell_type": "markdown",
   "metadata": {},
   "source": [
    "## Predictive Modeling\n",
    "\n",
    "Finally we'll use a random forest[4] model to predict the yield strength from the chemical features.\n",
    "\n",
    "The following code defines a \"model plan\": a selection of features to use for fitting (`var`) and a target property to model (`out`)."
   ]
  },
  {
   "cell_type": "code",
   "execution_count": 7,
   "metadata": {},
   "outputs": [],
   "source": [
    "# Define model architecture to fit\n",
    "ft_base = ft_rf(var=var_feat, out=[out])"
   ]
  },
  {
   "cell_type": "markdown",
   "metadata": {},
   "source": [
    "The following code fits the model to the full working dataset (to assess baseline accuracy), and performs k-fold cross validation to estimate prediction error.\n"
   ]
  },
  {
   "cell_type": "code",
   "execution_count": 8,
   "metadata": {},
   "outputs": [
    {
     "name": "stdout",
     "output_type": "stream",
     "text": [
      "... provided columns intersect model output.\n",
      "eval_df() is dropping {'PROPERTY: YS (MPa)'}\n"
     ]
    }
   ],
   "source": [
    "# Fit and assess baseline model\n",
    "md_base = df_working >> ft_base()\n",
    "\n",
    "df_base = (\n",
    "    md_base\n",
    "    >> gr.ev_df(df=df_working)\n",
    "    >> gr.tf_rename(pred=X[out])\n",
    "    >> gr.tf_bind_cols(df_working[[out]])\n",
    ")\n",
    "\n",
    "ndme_base = (\n",
    "    df_base >> gr.tf_summarize(ndme=gr.ndme(X.pred, X[out]))\n",
    ").ndme.values[0]\n",
    "\n",
    "# Estimate test error with k-fold CV\n",
    "df_kfold = df_base >> gr.tf_kfolds(\n",
    "    ft=ft_base, k=5, summaries=dict(ndme=gr.ndme)\n",
    ")"
   ]
  },
  {
   "cell_type": "markdown",
   "metadata": {},
   "source": [
    "First let's assess the numerical error metrics, quantified in terms of *non-dimensional model error* (NDME); zero is the ideal, and one is a highly inaccurate model.\n"
   ]
  },
  {
   "cell_type": "code",
   "execution_count": 9,
   "metadata": {},
   "outputs": [
    {
     "name": "stdout",
     "output_type": "stream",
     "text": [
      "Baseline error 0.321\n",
      "\n"
     ]
    },
    {
     "data": {
      "text/html": [
       "<div>\n",
       "<style scoped>\n",
       "    .dataframe tbody tr th:only-of-type {\n",
       "        vertical-align: middle;\n",
       "    }\n",
       "\n",
       "    .dataframe tbody tr th {\n",
       "        vertical-align: top;\n",
       "    }\n",
       "\n",
       "    .dataframe thead th {\n",
       "        text-align: right;\n",
       "    }\n",
       "</style>\n",
       "<table border=\"1\" class=\"dataframe\">\n",
       "  <thead>\n",
       "    <tr style=\"text-align: right;\">\n",
       "      <th></th>\n",
       "      <th>ndme_PROPERTY: YS (MPa)</th>\n",
       "      <th>_kfold</th>\n",
       "    </tr>\n",
       "  </thead>\n",
       "  <tbody>\n",
       "    <tr>\n",
       "      <td>count</td>\n",
       "      <td>5.000000</td>\n",
       "      <td>5.000000</td>\n",
       "    </tr>\n",
       "    <tr>\n",
       "      <td>mean</td>\n",
       "      <td>0.497470</td>\n",
       "      <td>2.000000</td>\n",
       "    </tr>\n",
       "    <tr>\n",
       "      <td>std</td>\n",
       "      <td>0.033509</td>\n",
       "      <td>1.581139</td>\n",
       "    </tr>\n",
       "    <tr>\n",
       "      <td>min</td>\n",
       "      <td>0.452164</td>\n",
       "      <td>0.000000</td>\n",
       "    </tr>\n",
       "    <tr>\n",
       "      <td>25%</td>\n",
       "      <td>0.485245</td>\n",
       "      <td>1.000000</td>\n",
       "    </tr>\n",
       "    <tr>\n",
       "      <td>50%</td>\n",
       "      <td>0.494623</td>\n",
       "      <td>2.000000</td>\n",
       "    </tr>\n",
       "    <tr>\n",
       "      <td>75%</td>\n",
       "      <td>0.512524</td>\n",
       "      <td>3.000000</td>\n",
       "    </tr>\n",
       "    <tr>\n",
       "      <td>max</td>\n",
       "      <td>0.542797</td>\n",
       "      <td>4.000000</td>\n",
       "    </tr>\n",
       "  </tbody>\n",
       "</table>\n",
       "</div>"
      ],
      "text/plain": [
       "       ndme_PROPERTY: YS (MPa)    _kfold\n",
       "count                 5.000000  5.000000\n",
       "mean                  0.497470  2.000000\n",
       "std                   0.033509  1.581139\n",
       "min                   0.452164  0.000000\n",
       "25%                   0.485245  1.000000\n",
       "50%                   0.494623  2.000000\n",
       "75%                   0.512524  3.000000\n",
       "max                   0.542797  4.000000"
      ]
     },
     "execution_count": 9,
     "metadata": {},
     "output_type": "execute_result"
    }
   ],
   "source": [
    "print(\"Baseline error {0:4.3f}\\n\".format(ndme_base))\n",
    "df_kfold.describe()"
   ]
  },
  {
   "cell_type": "markdown",
   "metadata": {},
   "source": [
    "**Observations**:\n",
    "\n",
    "- Baseline (training) error is fairly low, around `ndme = 0.3`.\n",
    "- Test error is likely to be much higher, around `ndme = 0.5`.\n",
    "\n",
    "Finally, let's construct a predicted vs actual plot and overlay temperature; is there any relation between accuracy and experiment temperature?"
   ]
  },
  {
   "cell_type": "code",
   "execution_count": 10,
   "metadata": {},
   "outputs": [
    {
     "data": {
      "image/png": "[encoded data removed]",
      "text/plain": [
       "<Figure size 640x480 with 1 Axes>"
      ]
     },
     "metadata": {
      "needs_background": "light"
     },
     "output_type": "display_data"
    },
    {
     "data": {
      "text/plain": [
       "<ggplot: (8772509714125)>"
      ]
     },
     "execution_count": 10,
     "metadata": {},
     "output_type": "execute_result"
    }
   ],
   "source": [
    "(\n",
    "    gg.ggplot(\n",
    "        df_base,\n",
    "        gg.aes(\"pred\", out, color=\"PROPERTY: Test temperature ($^\\circ$C)\"),\n",
    "    )\n",
    "    + gg.geom_abline(intercept=0, slope=1, linetype=\"dashed\")\n",
    "    + gg.geom_point()\n",
    "    + gg.theme_minimal()\n",
    ")"
   ]
  },
  {
   "cell_type": "markdown",
   "metadata": {},
   "source": [
    "**Observations**:\n",
    "\n",
    "- Higher-temperature tests correspond to lower yield strength cases.\n",
    "- The higher-temperature cases do not seem to be the cases with the highest error.\n",
    "- There are a strange \"vertical stripes\" of cases with different realized yield strength, but the same prediction. Are these repeat observations on the same formula?\n",
    "\n",
    "This was just a taste of the materials informatics questions one could probe with Grama!\n",
    "\n",
    "# References\n",
    "\n",
    "---\n",
    "\n",
    "[1] Borg, Christopher; Frey, Carolina; Moh, Jasper; Miracle, Daniel; Saal, James E; Meredig, Bryce; et al. (2020): Expanded dataset of mechanical properties and observed phases of multi-principal element alloys. figshare. Dataset. https://doi.org/10.6084/m9.figshare.12642953.v2\n",
    "\n",
    "[1] Ward, L., Dunn, A., Faghaninia, A., Zimmermann, N. E. R., Bajaj, S., Wang, Q.,\n",
    "Montoya, J. H., Chen, J., Bystrom, K., Dylla, M., Chard, K., Asta, M., Persson,\n",
    "K., Snyder, G. J., Foster, I., Jain, A., Matminer: An open source toolkit for\n",
    "materials data mining. Comput. Mater. Sci. 152, 60-69 (2018).\n",
    "\n",
    "[2] L.J.P. van der Maaten and G.E. Hinton. Visualizing High-Dimensional Data Using t-SNE. Journal of Machine Learning Research 9(Nov):2579-2605, 2008.\n",
    "\n",
    "[3] sklearn, [Random forest regressor](https://scikit-learn.org/stable/modules/generated/sklearn.ensemble.RandomForestRegressor.html)\n"
   ]
  }
 ],
 "metadata": {
  "kernelspec": {
   "display_name": "Python 3",
   "language": "python",
   "name": "python3"
  },
  "language_info": {
   "codemirror_mode": {
    "name": "ipython",
    "version": 3
   },
   "file_extension": ".py",
   "mimetype": "text/x-python",
   "name": "python",
   "nbconvert_exporter": "python",
   "pygments_lexer": "ipython3",
   "version": "3.7.4"
  }
 },
 "nbformat": 4,
 "nbformat_minor": 4
}
