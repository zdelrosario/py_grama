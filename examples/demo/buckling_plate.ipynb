{
 "cells": [
  {
   "cell_type": "markdown",
   "metadata": {},
   "source": [
    "# Safety of a Buckling Plate"
   ]
  },
  {
   "cell_type": "code",
   "execution_count": null,
   "metadata": {},
   "outputs": [],
   "source": [
    "import grama as gr\n",
    "\n",
    "X = gr.Intention()"
   ]
  },
  {
   "cell_type": "markdown",
   "metadata": {},
   "source": [
    "# Plate in danger of buckling\n",
    "\n",
    "---\n",
    "\n",
    "![Plate](./plate_free_sides.png)\n",
    "\n",
    "**Question**: Will the plate buckle?"
   ]
  },
  {
   "cell_type": "markdown",
   "metadata": {},
   "source": [
    "## Modeling Safety\n",
    "\n",
    "---\n",
    "\n",
    "$$\\text{Safety} = \\text{Stress}_{\\text{Critical}} - \\text{Stress}_{\\text{Applied}}$$\n",
    "\n",
    "Important values!\n",
    "\n",
    "| Value | Means |\n",
    "|---|---|\n",
    "| $\\text{Safety} > 0$ | Safe |\n",
    "| $\\text{Safety} \\leq 0$ | Unsafe! |\n",
    "\n",
    "$\\text{Stress}_{\\text{Critical}}$ and $\\text{Stress}_{\\text{Applied}}$ come from engineering analysis"
   ]
  },
  {
   "cell_type": "code",
   "execution_count": null,
   "metadata": {},
   "outputs": [],
   "source": [
    "## Model building == Engineering analysis\n",
    "from plate_analysis import md_plate"
   ]
  },
  {
   "cell_type": "code",
   "execution_count": null,
   "metadata": {},
   "outputs": [],
   "source": [
    "## Show model structure\n",
    "md_plate.show_dag()"
   ]
  },
  {
   "cell_type": "code",
   "execution_count": null,
   "metadata": {},
   "outputs": [],
   "source": [
    "## Simulate the model 1000 times and plot\n",
    "df_mc = md_plate >> gr.ev_monte_carlo(n=1e3, df_det=\"nom\")\n",
    "df_mc >> gr.pt_hists(out=[\"E\", \"t\", \"mu\", \"h\"])"
   ]
  },
  {
   "cell_type": "markdown",
   "metadata": {},
   "source": [
    "## Study: Ignoring Uncertainty\n",
    "\n",
    "---\n"
   ]
  },
  {
   "cell_type": "code",
   "execution_count": null,
   "metadata": {},
   "outputs": [],
   "source": [
    "df_conservative = md_plate >> gr.ev_nominal(df_det=\"nom\")\n",
    "df_conservative[[\"safety\"]]"
   ]
  },
  {
   "cell_type": "markdown",
   "metadata": {},
   "source": [
    "**Conclusion**: Plate will not buckle"
   ]
  },
  {
   "cell_type": "markdown",
   "metadata": {},
   "source": [
    "## Study: Considering Uncertainty\n",
    "\n",
    "---\n"
   ]
  },
  {
   "cell_type": "code",
   "execution_count": null,
   "metadata": {},
   "outputs": [],
   "source": [
    "## Analyze the model\n",
    "df_mc >> gr.pt_hists(out=[\"safety\"])"
   ]
  },
  {
   "cell_type": "code",
   "execution_count": null,
   "metadata": {},
   "outputs": [],
   "source": [
    "df_mc >> gr.tf_summarize(safety=gr.quant(X.safety, p=0.01))"
   ]
  },
  {
   "cell_type": "markdown",
   "metadata": {},
   "source": [
    "**Conclusion**: Plate has a *small probability* of buckling"
   ]
  }
 ],
 "metadata": {
  "kernelspec": {
   "display_name": "Python 3",
   "language": "python",
   "name": "python3"
  },
  "language_info": {
   "codemirror_mode": {
    "name": "ipython",
    "version": 3
   },
   "file_extension": ".py",
   "mimetype": "text/x-python",
   "name": "python",
   "nbconvert_exporter": "python",
   "pygments_lexer": "ipython3",
   "version": "3.7.4"
  }
 },
 "nbformat": 4,
 "nbformat_minor": 4
}
