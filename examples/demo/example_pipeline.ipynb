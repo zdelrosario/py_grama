{
 "cells": [
  {
   "cell_type": "markdown",
   "metadata": {},
   "source": [
    "# Buckling Plate Demo\n",
    "\n",
    "# (User Need: Big Picture)"
   ]
  },
  {
   "cell_type": "code",
   "execution_count": 1,
   "metadata": {},
   "outputs": [],
   "source": [
    "## Initialize the package\n",
    "import grama as gr"
   ]
  },
  {
   "cell_type": "markdown",
   "metadata": {},
   "source": [
    "### Buckling Plate\n",
    "\n",
    "![Plate](./plate_free_sides.png)\n",
    "\n",
    "(Peery, 1950)"
   ]
  },
  {
   "cell_type": "markdown",
   "metadata": {},
   "source": [
    "### Implement Governing Equation\n",
    "\n",
    "$$g_{\\text{buckle}} = \\frac{\\pi^2 E}{12 (1 - \\mu^2)}\\left(\\frac{t}{h}\\right)^2 - \\frac{L}{wt}$$"
   ]
  },
  {
   "cell_type": "code",
   "execution_count": 2,
   "metadata": {},
   "outputs": [],
   "source": [
    "## Implement governing equation\n",
    "pi = 3.14159\n",
    "\n",
    "\n",
    "def g_buckle(x):\n",
    "    t, w, h, E, mu, L = x\n",
    "\n",
    "    return pi**2 * E / 12.0 / (1 - mu**2) * (t / h) ** 2 - L / (w * t)\n",
    "\n",
    "\n",
    "var_list = [\"t\", \"w\", \"h\", \"E\", \"mu\", \"L\"]"
   ]
  },
  {
   "cell_type": "markdown",
   "metadata": {},
   "source": [
    "### Study Data"
   ]
  },
  {
   "cell_type": "code",
   "execution_count": 3,
   "metadata": {},
   "outputs": [
    {
     "data": {
      "text/plain": [
       "<seaborn.axisgrid.PairGrid at 0x7ff07c98c690>"
      ]
     },
     "execution_count": 3,
     "metadata": {},
     "output_type": "execute_result"
    },
    {
     "data": {
      "image/png": "[encoded data removed]",
      "text/plain": [
       "<Figure size 360x360 with 6 Axes>"
      ]
     },
     "metadata": {
      "needs_background": "light"
     },
     "output_type": "display_data"
    }
   ],
   "source": [
    "## Import data for the model\n",
    "from grama.data import df_stang\n",
    "\n",
    "## Import plotting tools\n",
    "import seaborn as sns\n",
    "\n",
    "## Plot the data\n",
    "sns.pairplot(df_stang[[\"E\", \"mu\"]])  # Elasticity and poisson ratio"
   ]
  },
  {
   "cell_type": "markdown",
   "metadata": {},
   "source": [
    "### Build Model"
   ]
  },
  {
   "cell_type": "code",
   "execution_count": 4,
   "metadata": {},
   "outputs": [
    {
     "name": "stdout",
     "output_type": "stream",
     "text": [
      "model: Plate under buckling load\n",
      "\n",
      "  inputs:\n",
      "    var_det:\n",
      "      h: [6, 18]\n",
      "      L: [0.25, 0.4]\n",
      "      t: [0.03, 0.12]\n",
      "      w: [6, 18]\n",
      "    var_rand:\n",
      "      E: (+0) norm, {'loc': 10344.736842105263, 'scale': 258.7392188662194}\n",
      "      mu: (+0) beta, {'a': 1.0039017654316746, 'b': 0.8622680473775106, 'loc': 0.3094053248270583, 'scale': 0.021594675172941728}\n",
      "    copula:\n",
      "        Gaussian copula with correlations:\n",
      "  var1 var2      corr\n",
      "0   mu    E  0.371244\n",
      "  functions:\n",
      "    g_buckle: ['t', 'w', 'h', 'E', 'mu', 'L'] -> ['g_buckle']\n"
     ]
    }
   ],
   "source": [
    "## Build the model\n",
    "md_plate = (\n",
    "    gr.Model(\"Plate under buckling load\")\n",
    "    >> gr.cp_function(\n",
    "        fun=g_buckle,  # (above)\n",
    "        var=var_list,  # (above)\n",
    "        out=[\"g_buckle\"],  # Output name\n",
    "    )\n",
    "    >> gr.cp_bounds(  # Deterministic variables\n",
    "        t=(0.03, 0.12),  # Thickness\n",
    "        w=(6, 18),  # Width\n",
    "        h=(6, 18),  # Height\n",
    "        L=(2.5e-1, 4.0e-1),  # Load\n",
    "    )\n",
    "    >> gr.cp_marginals(  # Random variables\n",
    "        E=gr.marg_named(df_stang.E, \"norm\"),\n",
    "        mu=gr.marg_named(df_stang.mu, \"beta\"),\n",
    "    )\n",
    "    >> gr.cp_copula_gaussian(df_data=df_stang)\n",
    ")  # Dependence\n",
    "\n",
    "md_plate.printpretty()"
   ]
  },
  {
   "cell_type": "markdown",
   "metadata": {},
   "source": [
    "### Analyze Model: Deterministic approach"
   ]
  },
  {
   "cell_type": "code",
   "execution_count": 5,
   "metadata": {},
   "outputs": [
    {
     "name": "stdout",
     "output_type": "stream",
     "text": [
      "eval_conservative() using quantile default 0.01;\n",
      "provide `quantiles` keyword for non-default behavior.\n"
     ]
    },
    {
     "data": {
      "text/html": [
       "<div>\n",
       "<style scoped>\n",
       "    .dataframe tbody tr th:only-of-type {\n",
       "        vertical-align: middle;\n",
       "    }\n",
       "\n",
       "    .dataframe tbody tr th {\n",
       "        vertical-align: top;\n",
       "    }\n",
       "\n",
       "    .dataframe thead th {\n",
       "        text-align: right;\n",
       "    }\n",
       "</style>\n",
       "<table border=\"1\" class=\"dataframe\">\n",
       "  <thead>\n",
       "    <tr style=\"text-align: right;\">\n",
       "      <th></th>\n",
       "      <th>g_buckle</th>\n",
       "    </tr>\n",
       "  </thead>\n",
       "  <tbody>\n",
       "    <tr>\n",
       "      <td>0</td>\n",
       "      <td>0.009516</td>\n",
       "    </tr>\n",
       "  </tbody>\n",
       "</table>\n",
       "</div>"
      ],
      "text/plain": [
       "   g_buckle\n",
       "0  0.009516"
      ]
     },
     "execution_count": 5,
     "metadata": {},
     "output_type": "execute_result"
    }
   ],
   "source": [
    "df_conservative = md_plate >> gr.ev_conservative(df_det=\"nom\")\n",
    "df_conservative[[\"g_buckle\"]]"
   ]
  },
  {
   "cell_type": "markdown",
   "metadata": {},
   "source": [
    "Limit state `g_buckle > 0` implies safe structure."
   ]
  },
  {
   "cell_type": "markdown",
   "metadata": {},
   "source": [
    "### Analyze Model Uncertainty"
   ]
  },
  {
   "cell_type": "code",
   "execution_count": 6,
   "metadata": {},
   "outputs": [
    {
     "name": "stdout",
     "output_type": "stream",
     "text": [
      "eval_monte_carlo() is rounding n...\n"
     ]
    },
    {
     "data": {
      "text/plain": [
       "<seaborn.axisgrid.FacetGrid at 0x7ff07c1b3390>"
      ]
     },
     "execution_count": 6,
     "metadata": {},
     "output_type": "execute_result"
    },
    {
     "data": {
      "image/png": "[encoded data removed]",
      "text/plain": [
       "<Figure size 216x216 with 1 Axes>"
      ]
     },
     "metadata": {
      "needs_background": "light"
     },
     "output_type": "display_data"
    }
   ],
   "source": [
    "## Analyze the model\n",
    "md_plate >> gr.ev_monte_carlo(n=1e3, df_det=\"nom\") >> gr.pt_auto()"
   ]
  },
  {
   "cell_type": "markdown",
   "metadata": {},
   "source": [
    "Uncertainty analysis reveals chance of failure."
   ]
  }
 ],
 "metadata": {
  "kernelspec": {
   "display_name": "Python 3",
   "language": "python",
   "name": "python3"
  },
  "language_info": {
   "codemirror_mode": {
    "name": "ipython",
    "version": 3
   },
   "file_extension": ".py",
   "mimetype": "text/x-python",
   "name": "python",
   "nbconvert_exporter": "python",
   "pygments_lexer": "ipython3",
   "version": "3.7.4"
  }
 },
 "nbformat": 4,
 "nbformat_minor": 4
}
