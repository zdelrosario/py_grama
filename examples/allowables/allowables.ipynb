{
 "cells": [
  {
   "cell_type": "markdown",
   "metadata": {},
   "source": [
    "# Allowables\n",
    "\n",
    "---\n",
    "\n"
   ]
  },
  {
   "cell_type": "code",
   "execution_count": 1,
   "metadata": {},
   "outputs": [
    {
     "name": "stdout",
     "output_type": "stream",
     "text": [
      "model: Cantilever Beam\n",
      "\n",
      "  inputs:\n",
      "    var_det:\n",
      "      t: [2, 4]\n",
      "      w: [2, 4]\n",
      "    var_rand:\n",
      "      H: (+1) norm, {'loc': 500.0, 'scale': 100.0}\n",
      "      V: (+1) norm, {'loc': 1000.0, 'scale': 100.0}\n",
      "      E: (+0) norm, {'loc': 29000000.0, 'scale': 1450000.0}\n",
      "      Y: (-1) norm, {'loc': 40000.0, 'scale': 2000.0}\n",
      "    copula:\n",
      "        Independence copula\n",
      "  functions:\n",
      "    cross-sectional area: ['w', 't'] -> ['c_area']\n",
      "    limit state: stress: ['w', 't', 'H', 'V', 'E', 'Y'] -> ['g_stress']\n",
      "    limit state: displacement: ['w', 't', 'H', 'V', 'E', 'Y'] -> ['g_disp']\n"
     ]
    }
   ],
   "source": [
    "import grama as gr\n",
    "from plotnine import *\n",
    "from grama.models import make_cantilever_beam\n",
    "from grama.models import make_plate_buckle\n",
    "\n",
    "DF = gr.Intention()\n",
    "\n",
    "md_beam = make_cantilever_beam()\n",
    "md_beam.printpretty()"
   ]
  },
  {
   "cell_type": "markdown",
   "metadata": {},
   "source": [
    "## Compare Allowables to Monte Carlo\n"
   ]
  },
  {
   "cell_type": "code",
   "execution_count": 2,
   "metadata": {},
   "outputs": [
    {
     "name": "stdout",
     "output_type": "stream",
     "text": [
      "eval_monte_carlo() is rounding n...\n"
     ]
    },
    {
     "data": {
      "text/html": [
       "<div>\n",
       "<style scoped>\n",
       "    .dataframe tbody tr th:only-of-type {\n",
       "        vertical-align: middle;\n",
       "    }\n",
       "\n",
       "    .dataframe tbody tr th {\n",
       "        vertical-align: top;\n",
       "    }\n",
       "\n",
       "    .dataframe thead th {\n",
       "        text-align: right;\n",
       "    }\n",
       "</style>\n",
       "<table border=\"1\" class=\"dataframe\">\n",
       "  <thead>\n",
       "    <tr style=\"text-align: right;\">\n",
       "      <th></th>\n",
       "      <th>g_disp</th>\n",
       "      <th>g_stress</th>\n",
       "      <th>source</th>\n",
       "    </tr>\n",
       "  </thead>\n",
       "  <tbody>\n",
       "    <tr>\n",
       "      <th>0</th>\n",
       "      <td>-0.188263</td>\n",
       "      <td>-0.208134</td>\n",
       "      <td>allowable</td>\n",
       "    </tr>\n",
       "    <tr>\n",
       "      <th>1</th>\n",
       "      <td>-0.174174</td>\n",
       "      <td>-0.053179</td>\n",
       "      <td>true</td>\n",
       "    </tr>\n",
       "  </tbody>\n",
       "</table>\n",
       "</div>"
      ],
      "text/plain": [
       "     g_disp  g_stress     source\n",
       "0 -0.188263 -0.208134  allowable\n",
       "1 -0.174174 -0.053179       true"
      ]
     },
     "execution_count": 2,
     "metadata": {},
     "output_type": "execute_result"
    }
   ],
   "source": [
    "## Common probability value\n",
    "alpha = 0.01\n",
    "\n",
    "## Allowable computation\n",
    "df_allowables = (\n",
    "    md_beam\n",
    "    ## Single \"conservative\" evaluation\n",
    "    >> gr.ev_conservative(\n",
    "        df_det=\"nom\",\n",
    "        quantiles=alpha,\n",
    "    )\n",
    "    >> gr.tf_mutate(source=\"allowable\")\n",
    ")\n",
    "\n",
    "## Monte Carlo computation\n",
    "df_mc = (\n",
    "    md_beam\n",
    "    ## Many evaluations\n",
    "    >> gr.ev_monte_carlo(\n",
    "        n=1e3,\n",
    "        df_det=\"nom\",\n",
    "        seed=101,\n",
    "    )\n",
    ")\n",
    "df_quantiles = (\n",
    "    df_mc\n",
    "    ## Summary of output values\n",
    "    >> gr.tf_summarize(\n",
    "        g_stress=gr.quant(DF.g_stress, p=alpha),\n",
    "        g_disp=gr.quant(DF.g_disp, p=alpha),\n",
    "    )\n",
    "    >> gr.tf_mutate(source=\"true\")\n",
    ")\n",
    "\n",
    "df_both = (\n",
    "    df_allowables\n",
    "    >> gr.tf_select(\"g_disp\", \"g_stress\", \"source\")\n",
    "    >> gr.tf_bind_rows(df_quantiles)\n",
    ")\n",
    "df_both"
   ]
  },
  {
   "cell_type": "markdown",
   "metadata": {},
   "source": [
    "Visualize the results\n"
   ]
  },
  {
   "cell_type": "code",
   "execution_count": 3,
   "metadata": {},
   "outputs": [
    {
     "data": {
      "image/png": "[encoded data removed]",
      "text/plain": [
       "<Figure size 640x480 with 1 Axes>"
      ]
     },
     "metadata": {
      "needs_background": "light"
     },
     "output_type": "display_data"
    },
    {
     "data": {
      "text/plain": [
       "<ggplot: (8788591535545)>"
      ]
     },
     "execution_count": 3,
     "metadata": {},
     "output_type": "execute_result"
    }
   ],
   "source": [
    "(\n",
    "    ggplot()\n",
    "    + geom_vline(\n",
    "        xintercept=0,\n",
    "        color=\"grey\",\n",
    "        size=1,\n",
    "    )\n",
    "    + geom_density(data=df_mc, mapping=aes(x=\"g_stress\"))\n",
    "    + geom_vline(\n",
    "        data=df_both,\n",
    "        mapping=aes(xintercept=\"g_stress\", color=\"source\"),\n",
    "        linetype=\"dashed\",\n",
    "    )\n",
    "    + theme_minimal()\n",
    "    + labs(\n",
    "        x=\"Limit State\",\n",
    "    )\n",
    ")"
   ]
  },
  {
   "cell_type": "markdown",
   "metadata": {},
   "source": [
    "## Why Grama? Trivial to Generalize Analyis to Other Models\n"
   ]
  },
  {
   "cell_type": "code",
   "execution_count": 4,
   "metadata": {},
   "outputs": [
    {
     "name": "stdout",
     "output_type": "stream",
     "text": [
      "model: Plate Buckling\n",
      "\n",
      "  inputs:\n",
      "    var_det:\n",
      "      h: [6, 18]\n",
      "      L: [0.00064, 0.00256]\n",
      "      t: [0.03, 0.12]\n",
      "      w: [6, 18]\n",
      "    var_rand:\n",
      "      E: (+0) norm, {'loc': 10344.736842105263, 'scale': 258.7392188662194}\n",
      "      mu: (+0) beta, {'a': 1.0039017654316746, 'b': 0.8622680473775106, 'loc': 0.3094053248270583, 'scale': 0.021594675172941728}\n",
      "    copula:\n",
      "        Gaussian copula with correlations:\n",
      "  var1 var2      corr\n",
      "0    E   mu  0.371244\n",
      "  functions:\n",
      "    limit state: ['t', 'h', 'w', 'E', 'mu', 'L'] -> ['g_buckle']\n"
     ]
    }
   ],
   "source": [
    "md_plate = make_plate_buckle()\n",
    "md_plate.printpretty()"
   ]
  },
  {
   "cell_type": "markdown",
   "metadata": {},
   "source": []
  },
  {
   "cell_type": "code",
   "execution_count": 21,
   "metadata": {},
   "outputs": [
    {
     "name": "stdout",
     "output_type": "stream",
     "text": [
      "eval_monte_carlo() is rounding n...\n"
     ]
    },
    {
     "data": {
      "text/html": [
       "<div>\n",
       "<style scoped>\n",
       "    .dataframe tbody tr th:only-of-type {\n",
       "        vertical-align: middle;\n",
       "    }\n",
       "\n",
       "    .dataframe tbody tr th {\n",
       "        vertical-align: top;\n",
       "    }\n",
       "\n",
       "    .dataframe thead th {\n",
       "        text-align: right;\n",
       "    }\n",
       "</style>\n",
       "<table border=\"1\" class=\"dataframe\">\n",
       "  <thead>\n",
       "    <tr style=\"text-align: right;\">\n",
       "      <th></th>\n",
       "      <th>g_buckle</th>\n",
       "      <th>source</th>\n",
       "    </tr>\n",
       "  </thead>\n",
       "  <tbody>\n",
       "    <tr>\n",
       "      <th>0</th>\n",
       "      <td>0.108729</td>\n",
       "      <td>True (MC)</td>\n",
       "    </tr>\n",
       "    <tr>\n",
       "      <th>1</th>\n",
       "      <td>0.116197</td>\n",
       "      <td>Allowables</td>\n",
       "    </tr>\n",
       "  </tbody>\n",
       "</table>\n",
       "</div>"
      ],
      "text/plain": [
       "   g_buckle      source\n",
       "0  0.108729   True (MC)\n",
       "1  0.116197  Allowables"
      ]
     },
     "execution_count": 21,
     "metadata": {},
     "output_type": "execute_result"
    }
   ],
   "source": [
    "df_plate_allowables = (\n",
    "    md_plate\n",
    "    ## BEGIN Allowables\n",
    "    >> gr.ev_conservative(df_det=\"nom\", quantiles=alpha)\n",
    "    ## END Allowables\n",
    "    >> gr.tf_select(\"g_buckle\")\n",
    "    >> gr.tf_mutate(source=\"Allowables\")\n",
    ")\n",
    "df_plate_mc = md_plate >> gr.ev_monte_carlo(\n",
    "    n=1e4,\n",
    "    df_det=\"nom\",\n",
    "    seed=101,\n",
    ")\n",
    "df_plate_quant = (\n",
    "    df_plate_mc\n",
    "    >> gr.tf_summarize(g_buckle=gr.quant(DF.g_buckle, p=alpha))\n",
    "    >> gr.tf_mutate(source=\"True (MC)\")\n",
    ")\n",
    "\n",
    "df_plate = df_plate_quant >> gr.tf_bind_rows(df_plate_allowables)\n",
    "df_plate"
   ]
  },
  {
   "cell_type": "markdown",
   "metadata": {},
   "source": [
    "Visualize results\n"
   ]
  },
  {
   "cell_type": "code",
   "execution_count": 23,
   "metadata": {},
   "outputs": [
    {
     "name": "stderr",
     "output_type": "stream",
     "text": [
      "Warning: Saving 6.4 x 4.8 in image.\n",
      "Warning: Filename: plate-dist.png\n"
     ]
    },
    {
     "data": {
      "image/png": "[encoded data removed]",
      "text/plain": [
       "<Figure size 640x480 with 1 Axes>"
      ]
     },
     "metadata": {
      "needs_background": "light"
     },
     "output_type": "display_data"
    },
    {
     "data": {
      "text/plain": [
       "<ggplot: (8788553538429)>"
      ]
     },
     "execution_count": 23,
     "metadata": {},
     "output_type": "execute_result"
    }
   ],
   "source": [
    "fig_plate = (\n",
    "    ggplot()\n",
    "    + geom_density(data=df_plate_mc, mapping=aes(x=\"g_buckle\"))\n",
    "    + geom_vline(\n",
    "        data=df_plate,\n",
    "        mapping=aes(xintercept=\"g_buckle\", color=\"source\"),\n",
    "        linetype=\"dashed\",\n",
    "    )\n",
    "    + scale_x_continuous(\n",
    "        breaks=(0.10, 0.11, 0.12, 0.13),\n",
    "        labels=(\"(Less Safe)\", \"0.11\", \"0.12\", \"(More Safe)\"),\n",
    "        limits=(0.10, 0.13),\n",
    "    )\n",
    "    + theme_minimal()\n",
    "    + labs(x=\"Limit State (ksi)\", y=\"Density (1/ksi)\")\n",
    ")\n",
    "fig_plate.save(\"plate-dist.png\")\n",
    "fig_plate"
   ]
  }
 ],
 "metadata": {
  "kernelspec": {
   "display_name": "Python 3",
   "language": "python",
   "name": "python3"
  },
  "language_info": {
   "codemirror_mode": {
    "name": "ipython",
    "version": 3
   },
   "file_extension": ".py",
   "mimetype": "text/x-python",
   "name": "python",
   "nbconvert_exporter": "python",
   "pygments_lexer": "ipython3",
   "version": "3.7.4"
  }
 },
 "nbformat": 4,
 "nbformat_minor": 4
}
