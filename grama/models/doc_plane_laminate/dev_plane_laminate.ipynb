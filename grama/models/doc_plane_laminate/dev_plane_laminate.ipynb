{
 "cells": [
  {
   "cell_type": "markdown",
   "metadata": {},
   "source": [
    "# Plane Laminate: Model Development Report\n",
    "\n",
    "---\n",
    "\n",
    "This notebook documents the devlopment of the `plane_laminate` model."
   ]
  },
  {
   "cell_type": "code",
   "execution_count": null,
   "metadata": {},
   "outputs": [],
   "source": [
    "import ipysheet\n",
    "import grama as gr\n",
    "import numpy as np\n",
    "import pandas as pd"
   ]
  },
  {
   "cell_type": "markdown",
   "metadata": {},
   "source": [
    "## Responses\n",
    "---"
   ]
  },
  {
   "cell_type": "markdown",
   "metadata": {},
   "source": [
    "### Verification"
   ]
  },
  {
   "cell_type": "markdown",
   "metadata": {},
   "source": [
    "## Input distribution\n",
    "\n",
    "---\n",
    "\n",
    "The CFRP material property distribution is informed by data from Table 2 of Zhang et al.[1], but primarily comes from Table 6 of del Rosario et al.[2].\n",
    "\n",
    "### Data Sources\n",
    "\n",
    "#### Table 2 (Zhang et al.)"
   ]
  },
  {
   "cell_type": "code",
   "execution_count": null,
   "metadata": {},
   "outputs": [],
   "source": [
    "df_zhang_t2 = pd.read_csv(\"zhang2019_table2.csv\")\n",
    "sheet = ipysheet.from_dataframe(df_zhang_t2)\n",
    "display(sheet)"
   ]
  },
  {
   "cell_type": "markdown",
   "metadata": {},
   "source": [
    "Using these, we can fix a few of the parameters immediately."
   ]
  },
  {
   "cell_type": "code",
   "execution_count": null,
   "metadata": {},
   "outputs": [],
   "source": [
    "## Mean quantities\n",
    "E_xx_t_mu_zhang = 115e9  # Tensile modulus, [0] laminate\n",
    "S_xx_t_mu_zhang = 1420e6  # Tensile strength, [0] laminate\n",
    "S_xx_c_mu_zhang = 712e6  # Compressive strength, [0] laminate\n",
    "\n",
    "## COV\n",
    "# Assume the \\pm quantities are symmetric normal 95% CI bounds\n",
    "E_xx_t_cov_zhang = 2e9 / 1.96 / E_xx_t_mu_zhang  # Tensile modulus, [0] laminate\n",
    "S_xx_t_cov_zhang = (\n",
    "    83e6 / 1.96 / S_xx_t_mu_zhang\n",
    ")  # Tensile strength, [0] laminate\n",
    "S_xx_c_cov_zhang = (\n",
    "    47e6 / 1.96 / S_xx_c_mu_zhang\n",
    ")  # Compressive strength, [0] laminate"
   ]
  },
  {
   "cell_type": "markdown",
   "metadata": {},
   "source": [
    "These were reportedly the basis for our stample statistics for our Aviation paper [2], but I do not see all the reported values in the original Zhang et al. reference. Rick must have brought in some additional information he has as an employee of Arevo."
   ]
  },
  {
   "cell_type": "markdown",
   "metadata": {},
   "source": [
    "#### Table 6 (del Rosario et al.)\n",
    "\n",
    "Aviation paper [2] Table 6 reproduced below. This is the core reference for the parameter data."
   ]
  },
  {
   "cell_type": "code",
   "execution_count": null,
   "metadata": {},
   "outputs": [],
   "source": [
    "df_zdr_t6 = pd.read_csv(\"zdr2019_table6.csv\")\n",
    "sheet = ipysheet.from_dataframe(df_zdr_t6)\n",
    "display(sheet)"
   ]
  },
  {
   "cell_type": "code",
   "execution_count": null,
   "metadata": {},
   "outputs": [],
   "source": [
    "## Copy from table\n",
    "S_xx_mu_zdr = 1.42e9\n",
    "S_xy_mu_zdr = 61.93e6\n",
    "\n",
    "E_xx_mu_zdr = 114.9e9\n",
    "E_yy_mu_zdr = 7.10e9\n",
    "G_xy_mu_zdr = 4.21e9\n",
    "nu_xy_mu_zdr = 0.45\n",
    "\n",
    "S_xx_cov_zdr = 0.059\n",
    "S_xy_cov_zdr = 0.072\n",
    "\n",
    "E_xx_cov_zdr = 0.018\n",
    "E_yy_cov_zdr = 0.085\n",
    "G_xy_cov_zdr = 0.105\n",
    "nu_xy_cov_zdr = 0.08"
   ]
  },
  {
   "cell_type": "markdown",
   "metadata": {},
   "source": [
    "We have multiple sources for some of the values; let's compare those:"
   ]
  },
  {
   "cell_type": "code",
   "execution_count": null,
   "metadata": {},
   "outputs": [],
   "source": [
    "df_compare = pd.DataFrame(\n",
    "    data={\n",
    "        \"source\": [\"zhang\", \"zdr\"],\n",
    "        \"S_xx_mu\": [S_xx_t_mu_zhang, S_xx_mu_zdr],\n",
    "        \"E_xx_mu\": [E_xx_t_mu_zhang, E_xx_mu_zdr],\n",
    "        \"S_xx_cov\": [S_xx_t_cov_zhang, S_xx_cov_zdr],\n",
    "        \"E_xx_cov\": [E_xx_t_cov_zhang, E_xx_cov_zdr],\n",
    "    }\n",
    ")\n",
    "df_compare"
   ]
  },
  {
   "cell_type": "markdown",
   "metadata": {},
   "source": [
    "It appears the nominal values are nearly identical, up to rounding. The COV are different; Rick must have made different assumptions on the \\pm values than what I state above."
   ]
  },
  {
   "cell_type": "markdown",
   "metadata": {},
   "source": [
    "#### Performance Composites Table\n",
    "\n",
    "These data are from the now-defunct company [\"Performance Composites\"](http://www.performance-composites.com/carbonfibre/mechanicalproperties_2.asp), accessed on 2019-11-28. While certainly the least trustworthy of the data reported here, this is the only reference I found on the transverse strength properties of unidirectional carbon fiber."
   ]
  },
  {
   "cell_type": "code",
   "execution_count": null,
   "metadata": {},
   "outputs": [],
   "source": [
    "df_pc_table = pd.read_csv(\"performance_composites_acc2019-11-28.csv\")\n",
    "sheet = ipysheet.from_dataframe(df_pc_table)\n",
    "display(sheet)"
   ]
  },
  {
   "cell_type": "markdown",
   "metadata": {},
   "source": [
    "The Standard Carbon Fiber Uni-Directional (`Std CF UD`) data imply the ratio between longitudinal and transverse tensile strengths can be on the order of `1500 / 50 = 30`. The loss for compressive strength is relatively lower at `1200 / 250 = 4.8`."
   ]
  },
  {
   "cell_type": "markdown",
   "metadata": {},
   "source": [
    "### Parameter Decisions\n",
    "\n",
    "Table 6 provides 1st and 2nd moment information for the orthotropic material properties `E_xx, E_yy, G_xy, \\nu_xy`. Table 6 does not report compressive modulii (as does Table 2); we assume the same elastic behavior in tension and compression.\n",
    "\n",
    "Table 6 also provides 1st and 2nd moment information for two (tensile `xx` and shear `xy`) of the five (incl. compressive `xx`, tensile and compressive `yy`) failure modes we need. Thus we need to make decisions about the remaining failure modes.\n",
    "\n",
    "The Performance Composite Table implies the ratio of longitudinal `S_xx` and transverse `S_yy` tensile strengths can be on the order of `30`; we will set the nominal tensile strengths appropriately and keep COV identical between `S_xx` and `S_yy`. The strength ratio for the compressive mode is `4.8`.\n",
    "\n",
    "Table 2 gives us a ratio between compressive and tensile strength; we will use this ratio to inform the compressive strength based on tensile values from Table 6. We will use an identical COV between tensile and compressive modes. \n",
    "\n",
    "I am unaware of **any** correlation data between material properties of carbon fiber. I will set default correlation values to zero, but this is *only* based on a lack of data."
   ]
  },
  {
   "cell_type": "code",
   "execution_count": null,
   "metadata": {},
   "outputs": [],
   "source": [
    "## Strength properties\n",
    "S_xx_t_mu = S_xx_mu_zdr\n",
    "S_xx_c_mu = S_xx_t_mu * (S_xx_c_mu_zhang / S_xx_t_mu_zhang)\n",
    "S_xy_s_mu = S_xy_mu_zdr\n",
    "S_yy_t_mu = S_xx_t_mu / 30\n",
    "S_yy_c_mu = S_xx_c_mu / 4.8\n",
    "\n",
    "S_xx_t_cov = S_xx_cov_zdr\n",
    "S_xx_c_cov = S_xx_cov_zdr\n",
    "S_xy_s_cov = S_xy_cov_zdr\n",
    "S_yy_t_cov = S_xx_cov_zdr\n",
    "S_yy_c_cov = S_xx_cov_zdr\n",
    "\n",
    "## Elastic properties\n",
    "E_xx_mu = E_xx_mu_zdr\n",
    "E_yy_mu = E_yy_mu_zdr\n",
    "G_xy_mu = G_xy_mu_zdr\n",
    "nu_xy_mu = nu_xy_mu_zdr\n",
    "\n",
    "E_xx_cov = E_xx_cov_zdr\n",
    "E_yy_cov = E_yy_cov_zdr\n",
    "G_xy_cov = G_xy_cov_zdr\n",
    "nu_xy_cov = nu_xy_cov_zdr\n",
    "\n",
    "## Geometry properties\n",
    "theta_pm = 3 * np.pi / 180\n",
    "t_nom = 1e-3\n",
    "t_pm = t_nom * 0.01\n",
    "t_cov = t_pm / t_nom / np.sqrt(3)\n",
    "\n",
    "## Loading properties\n",
    "Nx_mu = 1.2e6\n",
    "Nx_cov = 0.01\n",
    "\n",
    "## Summarize in table\n",
    "df_param = pd.DataFrame(\n",
    "    data={\n",
    "        \"property\": [\n",
    "            \"E_xx\",\n",
    "            \"E_yy\",\n",
    "            \"nu_xy\",\n",
    "            \"G_xy\",\n",
    "            \"theta\",\n",
    "            \"t\",\n",
    "            \"S_xx_t\",\n",
    "            \"S_yy_t\",\n",
    "            \"S_xx_c\",\n",
    "            \"S_yy_c\",\n",
    "            \"S_xy_s\",\n",
    "            \"Nx\",\n",
    "        ],\n",
    "        \"mean\": [\n",
    "            E_xx_mu,\n",
    "            E_yy_mu,\n",
    "            nu_xy_mu,\n",
    "            G_xy_mu,\n",
    "            0,\n",
    "            t_nom,\n",
    "            S_xx_t_mu,\n",
    "            S_yy_t_mu,\n",
    "            S_xx_c_mu,\n",
    "            S_yy_c_mu,\n",
    "            S_xy_s_mu,\n",
    "            Nx_mu,\n",
    "        ],\n",
    "        \"cov\": [\n",
    "            E_xx_cov,\n",
    "            E_yy_cov,\n",
    "            nu_xy_cov,\n",
    "            G_xy_cov,\n",
    "            0,\n",
    "            t_cov,\n",
    "            S_xx_t_cov,\n",
    "            S_yy_t_cov,\n",
    "            S_xx_c_cov,\n",
    "            S_yy_c_cov,\n",
    "            S_xy_s_cov,\n",
    "            Nx_cov,\n",
    "        ],\n",
    "    }\n",
    ")\n",
    "df_param"
   ]
  },
  {
   "cell_type": "markdown",
   "metadata": {},
   "source": [
    "### Shape Decisions"
   ]
  },
  {
   "cell_type": "markdown",
   "metadata": {},
   "source": [
    "## Bibliography\n",
    "\n",
    "---\n",
    "\n",
    "[1] Zhang, D., Rudolph, N., and Woytowitz, P., “Reliable Optimized Structures with High Performance Continuous Fiber Thermoplastic Composites from Additive Manufacturing (AM),” SAMPE 2019 , Charlotte, NC, May 2019.\n",
    "\n",
    "[2] del Rosario, Z., Fenrich, R., and Iaccarino, G. \"Margin as Model: Some Answers to \"How Many Tests Should I Perform?\",\" AIAA Aviation 2019, Dallas, TX, June 2019."
   ]
  }
 ],
 "metadata": {
  "kernelspec": {
   "display_name": "Python 3",
   "language": "python",
   "name": "python3"
  },
  "language_info": {
   "codemirror_mode": {
    "name": "ipython",
    "version": 3
   },
   "file_extension": ".py",
   "mimetype": "text/x-python",
   "name": "python",
   "nbconvert_exporter": "python",
   "pygments_lexer": "ipython3",
   "version": "3.7.1"
  }
 },
 "nbformat": 4,
 "nbformat_minor": 4
}
